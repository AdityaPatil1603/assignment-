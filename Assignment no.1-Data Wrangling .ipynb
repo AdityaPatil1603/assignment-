{
 "cells": [
  {
   "cell_type": "code",
   "execution_count": 2,
   "id": "c2f51af6",
   "metadata": {},
   "outputs": [
    {
     "name": "stdout",
     "output_type": "stream",
     "text": [
      "[0. 0. 0. 0. 1. 0. 0. 0. 0. 0.]\n"
     ]
    }
   ],
   "source": [
    "# Q.1-Create a null vector of size 10 but the fifth value which is 1.\n",
    "import numpy as np \n",
    "vector=np.zeros(10)\n",
    "vector[4]=1\n",
    "print(vector)"
   ]
  },
  {
   "cell_type": "code",
   "execution_count": 5,
   "id": "1a1325ac",
   "metadata": {},
   "outputs": [
    {
     "name": "stdout",
     "output_type": "stream",
     "text": [
      "[10 11 12 13 14 15 16 17 18 19 20 21 22 23 24 25 26 27 28 29 30 31 32 33\n",
      " 34 35 36 37 38 39 40 41 42 43 44 45 46 47 48 49]\n"
     ]
    }
   ],
   "source": [
    "#Q.2-Create a vector with values ranging from 10 to 49.\n",
    "import numpy as np\n",
    "vector=np.arange(10,50)\n",
    "print(vector)"
   ]
  },
  {
   "cell_type": "code",
   "execution_count": 12,
   "id": "d3621794",
   "metadata": {},
   "outputs": [
    {
     "name": "stdout",
     "output_type": "stream",
     "text": [
      "[[0 1 2]\n",
      " [3 4 5]\n",
      " [6 7 8]]\n"
     ]
    }
   ],
   "source": [
    "#Q.3-Create a 3x3 matrix with values ranging from 0 to 8.\n",
    "import numpy as np\n",
    "\n",
    "matrix=np.arange(0,9).reshape(3,3)\n",
    "print(matrix)"
   ]
  },
  {
   "cell_type": "code",
   "execution_count": 1,
   "id": "6a75faf7",
   "metadata": {},
   "outputs": [
    {
     "name": "stdout",
     "output_type": "stream",
     "text": [
      "non-zero elements: (array([0, 1, 4], dtype=int64),)\n"
     ]
    }
   ],
   "source": [
    "#Q.4-Find indices of non-zero elements from [1,2,0,0,4,0]\n",
    "import numpy as np\n",
    "array = np.array([1, 2, 0, 0, 4, 0])\n",
    "x = np.nonzero(array)\n",
    "print(\"non-zero elements:\", x)"
   ]
  },
  {
   "cell_type": "code",
   "execution_count": 19,
   "id": "040ccf67",
   "metadata": {},
   "outputs": [
    {
     "name": "stdout",
     "output_type": "stream",
     "text": [
      "Minimum value: 0.0005591733881321614\n",
      "Maximum value: 0.9875118064966925\n"
     ]
    }
   ],
   "source": [
    "#Q.5-Create a 10x10 array with random values and find the minimum and maximum values.\n",
    "import numpy as np \n",
    "array=np.random.rand(10,10)\n",
    "min_value = array.min()\n",
    "max_value = array.max()\n",
    "print(\"Minimum value:\", min_value)\n",
    "print(\"Maximum value:\", max_value)"
   ]
  },
  {
   "cell_type": "code",
   "execution_count": 22,
   "id": "c964d7fc",
   "metadata": {},
   "outputs": [
    {
     "name": "stdout",
     "output_type": "stream",
     "text": [
      "mean value : 0.5825132137934133\n"
     ]
    }
   ],
   "source": [
    "#Q.6-Create a random vector of size 30 and find the mean value.\n",
    "import numpy as np\n",
    "vector=np.random.rand(30)\n",
    "mean=vector.mean()\n",
    "print(\"mean value :\",mean)"
   ]
  }
 ],
 "metadata": {
  "kernelspec": {
   "display_name": "Python 3 (ipykernel)",
   "language": "python",
   "name": "python3"
  },
  "language_info": {
   "codemirror_mode": {
    "name": "ipython",
    "version": 3
   },
   "file_extension": ".py",
   "mimetype": "text/x-python",
   "name": "python",
   "nbconvert_exporter": "python",
   "pygments_lexer": "ipython3",
   "version": "3.9.13"
  }
 },
 "nbformat": 4,
 "nbformat_minor": 5
}
