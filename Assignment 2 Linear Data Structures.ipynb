{
 "cells": [
  {
   "cell_type": "code",
   "execution_count": 1,
   "id": "519a16a4",
   "metadata": {},
   "outputs": [
    {
     "name": "stdout",
     "output_type": "stream",
     "text": [
      "Original List:\n",
      "6 -6 8 4 -12 9 \n",
      "List after deleting zero-sum elements:\n",
      "6 8 9 "
     ]
    }
   ],
   "source": [
    "#Delete the elements in an linked list whose sum is equal to zero\n",
    "class Node:\n",
    "    def __init__(self, data=None):\n",
    "        self.data = data\n",
    "        self.next = None\n",
    "\n",
    "class LinkedList:\n",
    "    def __init__(self):\n",
    "        self.head = None\n",
    "    \n",
    "    def insert(self, data):\n",
    "        new_node = Node(data)\n",
    "        if self.head is None:\n",
    "            self.head = new_node\n",
    "            return\n",
    "        current = self.head\n",
    "        while current.next:\n",
    "            current = current.next\n",
    "        current.next = new_node\n",
    "    \n",
    "    def delete_zero_sum(self):\n",
    "        current = self.head\n",
    "        while current:\n",
    "            sum = current.data\n",
    "            next_node = current.next\n",
    "            while next_node:\n",
    "                sum += next_node.data\n",
    "                if sum == 0:\n",
    "                    current.next = next_node.next\n",
    "                    break\n",
    "                next_node = next_node.next\n",
    "            current = current.next\n",
    "    \n",
    "    def display(self):\n",
    "        current = self.head\n",
    "        while current:\n",
    "            print(current.data, end=' ')\n",
    "            current = current.next\n",
    "\n",
    "# Example Usage\n",
    "linked_list = LinkedList()\n",
    "linked_list.insert(6)\n",
    "linked_list.insert(-6)\n",
    "linked_list.insert(8)\n",
    "linked_list.insert(4)\n",
    "linked_list.insert(-12)\n",
    "linked_list.insert(9)\n",
    "\n",
    "print(\"Original List:\")\n",
    "linked_list.display()\n",
    "\n",
    "linked_list.delete_zero_sum()\n",
    "\n",
    "print(\"\\nList after deleting zero-sum elements:\")\n",
    "linked_list.display()"
   ]
  },
  {
   "cell_type": "code",
   "execution_count": 3,
   "id": "5d7c64a3",
   "metadata": {},
   "outputs": [
    {
     "name": "stdout",
     "output_type": "stream",
     "text": [
      "Original List:\n",
      "1 2 3 4 5 6 7 8 9 \n",
      "List after reversing in groups of 3:\n",
      "3 2 1 6 5 4 9 8 7 "
     ]
    }
   ],
   "source": [
    "#Reverse a linked list in groups of given size\n",
    "class Node:\n",
    "    def __init__(self, data=None):\n",
    "        self.data = data\n",
    "        self.next = None\n",
    "\n",
    "class LinkedList:\n",
    "    def __init__(self):\n",
    "        self.head = None\n",
    "    \n",
    "    def insert(self, data):\n",
    "        new_node = Node(data)\n",
    "        if self.head is None:\n",
    "            self.head = new_node\n",
    "            return\n",
    "        current = self.head\n",
    "        while current.next:\n",
    "            current = current.next\n",
    "        current.next = new_node\n",
    "    \n",
    "    def reverse_group(self, head, k):\n",
    "        current = head\n",
    "        prev = None\n",
    "        next_node = None\n",
    "        count = 0\n",
    "\n",
    "        # Reverse the first k nodes of the linked list\n",
    "        while current and count < k:\n",
    "            next_node = current.next\n",
    "            current.next = prev\n",
    "            prev = current\n",
    "            current = next_node\n",
    "            count += 1\n",
    "        \n",
    "        # Recursively reverse the remaining nodes\n",
    "        if next_node is not None:\n",
    "            head.next = self.reverse_group(next_node, k)\n",
    "        \n",
    "        # Return the new head of the reversed linked list\n",
    "        return prev\n",
    "    \n",
    "    def reverse_in_groups(self, k):\n",
    "        self.head = self.reverse_group(self.head, k)\n",
    "    \n",
    "    def display(self):\n",
    "        current = self.head\n",
    "        while current:\n",
    "            print(current.data, end=' ')\n",
    "            current = current.next\n",
    "\n",
    "# Example Usage\n",
    "linked_list = LinkedList()\n",
    "linked_list.insert(1)\n",
    "linked_list.insert(2)\n",
    "linked_list.insert(3)\n",
    "linked_list.insert(4)\n",
    "linked_list.insert(5)\n",
    "linked_list.insert(6)\n",
    "linked_list.insert(7)\n",
    "linked_list.insert(8)\n",
    "linked_list.insert(9)\n",
    "\n",
    "print(\"Original List:\")\n",
    "linked_list.display()\n",
    "\n",
    "linked_list.reverse_in_groups(3)\n",
    "\n",
    "print(\"\\nList after reversing in groups of 3:\")\n",
    "linked_list.display()"
   ]
  },
  {
   "cell_type": "code",
   "execution_count": 4,
   "id": "a336a702",
   "metadata": {},
   "outputs": [
    {
     "name": "stdout",
     "output_type": "stream",
     "text": [
      "List 1:\n",
      "1 2 3 \n",
      "List 2:\n",
      "A B C D \n",
      "Merged List:\n",
      "1 A 2 B 3 C "
     ]
    }
   ],
   "source": [
    "#Merge a linked list into another linked list at alternate positions.\n",
    "class Node:\n",
    "    def __init__(self, data=None):\n",
    "        self.data = data\n",
    "        self.next = None\n",
    "\n",
    "class LinkedList:\n",
    "    def __init__(self):\n",
    "        self.head = None\n",
    "    \n",
    "    def insert(self, data):\n",
    "        new_node = Node(data)\n",
    "        if self.head is None:\n",
    "            self.head = new_node\n",
    "            return\n",
    "        current = self.head\n",
    "        while current.next:\n",
    "            current = current.next\n",
    "        current.next = new_node\n",
    "    \n",
    "    def merge_alternate(self, other):\n",
    "        current = self.head\n",
    "        other_current = other.head\n",
    "        while current and other_current:\n",
    "            next_node = current.next\n",
    "            other_next_node = other_current.next\n",
    "            current.next = other_current\n",
    "            other_current.next = next_node\n",
    "            current = next_node\n",
    "            other_current = other_next_node\n",
    "        other.head = other_current\n",
    "    \n",
    "    def display(self):\n",
    "        current = self.head\n",
    "        while current:\n",
    "            print(current.data, end=' ')\n",
    "            current = current.next\n",
    "\n",
    "# Example Usage\n",
    "linked_list1 = LinkedList()\n",
    "linked_list1.insert(1)\n",
    "linked_list1.insert(2)\n",
    "linked_list1.insert(3)\n",
    "\n",
    "linked_list2 = LinkedList()\n",
    "linked_list2.insert('A')\n",
    "linked_list2.insert('B')\n",
    "linked_list2.insert('C')\n",
    "linked_list2.insert('D')\n",
    "\n",
    "print(\"List 1:\")\n",
    "linked_list1.display()\n",
    "\n",
    "print(\"\\nList 2:\")\n",
    "linked_list2.display()\n",
    "\n",
    "linked_list1.merge_alternate(linked_list2)\n",
    "\n",
    "print(\"\\nMerged List:\")\n",
    "linked_list1.display()"
   ]
  },
  {
   "cell_type": "code",
   "execution_count": 5,
   "id": "32c5343b",
   "metadata": {},
   "outputs": [
    {
     "name": "stdout",
     "output_type": "stream",
     "text": [
      "Duplicates: {1, 2, 3}\n"
     ]
    }
   ],
   "source": [
    "#In an array, Count Pairs with given sum\n",
    "def find_duplicates(arr):\n",
    "    seen = set()\n",
    "    duplicates = set()\n",
    "    for item in arr:\n",
    "        if item in seen:\n",
    "            duplicates.add(item)\n",
    "        else:\n",
    "            seen.add(item)\n",
    "    return duplicates\n",
    "\n",
    "# Example Usage\n",
    "arr = [1, 2, 3, 4, 5, 6, 1, 2, 3]\n",
    "duplicates = find_duplicates(arr)\n",
    "print(\"Duplicates:\", duplicates)"
   ]
  },
  {
   "cell_type": "code",
   "execution_count": 6,
   "id": "777b8906",
   "metadata": {},
   "outputs": [
    {
     "name": "stdout",
     "output_type": "stream",
     "text": [
      "Array: [9, 8, 6, 4, 3, 2, 1]\n",
      "Kth smallest number: 3\n",
      "Kth largest number: 6\n"
     ]
    }
   ],
   "source": [
    "#Find the Kth largest and Kth smallest number in an array\n",
    "def kth_smallest(arr, k):\n",
    "    arr.sort()\n",
    "    return arr[k-1]\n",
    "\n",
    "def kth_largest(arr, k):\n",
    "    arr.sort(reverse=True)\n",
    "    return arr[k-1]\n",
    "\n",
    "# Example Usage\n",
    "arr = [3, 8, 1, 6, 9, 4, 2]\n",
    "k = 3\n",
    "kth_smallest_num = kth_smallest(arr, k)\n",
    "kth_largest_num = kth_largest(arr, k)\n",
    "print(\"Array:\", arr)\n",
    "print(\"Kth smallest number:\", kth_smallest_num)\n",
    "print(\"Kth largest number:\", kth_largest_num)"
   ]
  },
  {
   "cell_type": "code",
   "execution_count": 7,
   "id": "5367da14",
   "metadata": {},
   "outputs": [
    {
     "name": "stdout",
     "output_type": "stream",
     "text": [
      "Original Array: [-6, -1, -3, -7, 4, 0, 2, 5, 8]\n",
      "New Array: [-6, -1, -3, -7, 4, 0, 2, 5, 8]\n"
     ]
    }
   ],
   "source": [
    "#Move all the negative elements to one side of the array\n",
    "def move_negatives(arr):\n",
    "    j = 0\n",
    "    for i in range(len(arr)):\n",
    "        if arr[i] < 0:\n",
    "            arr[i], arr[j] = arr[j], arr[i]\n",
    "            j += 1\n",
    "    return arr\n",
    "\n",
    "# Example Usage\n",
    "arr = [2, 4, -6, 8, -1, 0, -3, 5, -7]\n",
    "new_arr = move_negatives(arr)\n",
    "print(\"Original Array:\", arr)\n",
    "print(\"New Array:\", new_arr)"
   ]
  },
  {
   "cell_type": "code",
   "execution_count": 8,
   "id": "ff696494",
   "metadata": {},
   "outputs": [
    {
     "name": "stdout",
     "output_type": "stream",
     "text": [
      "Original String: Hello, world!\n",
      "Reversed String: !dlrow ,olleH\n"
     ]
    }
   ],
   "source": [
    "#Reverse a string using a stack data structure\n",
    "def reverse_string(string):\n",
    "    stack = []\n",
    "    for char in string:\n",
    "        stack.append(char)\n",
    "    reversed_string = \"\"\n",
    "    while len(stack) != 0:\n",
    "        reversed_string += stack.pop()\n",
    "    return reversed_string\n",
    "\n",
    "# Example Usage\n",
    "string = \"Hello, world!\"\n",
    "reversed_string = reverse_string(string)\n",
    "print(\"Original String:\", string)\n",
    "print(\"Reversed String:\", reversed_string)"
   ]
  },
  {
   "cell_type": "code",
   "execution_count": 12,
   "id": "b502929b",
   "metadata": {},
   "outputs": [
    {
     "name": "stdout",
     "output_type": "stream",
     "text": [
      "Postfix Expression: 82+5*9-\n",
      "Result: 41\n"
     ]
    }
   ],
   "source": [
    "#Evaluate a postfix expression using stack\n",
    "def evaluate_postfix(expression):\n",
    "    stack = []\n",
    "    for char in expression:\n",
    "        if char.isdigit():\n",
    "            stack.append(int(char))\n",
    "        else:\n",
    "            operand2 = stack.pop()\n",
    "            operand1 = stack.pop()\n",
    "            if char == '+':\n",
    "                result = operand1 + operand2\n",
    "            elif char == '-':\n",
    "                result = operand1 - operand2\n",
    "            elif char == '*':\n",
    "                result = operand1 * operand2\n",
    "            elif char == '/':\n",
    "                result = operand1 / operand2\n",
    "            stack.append(result)\n",
    "    return stack.pop()\n",
    "\n",
    "# Example Usage\n",
    "expression = \"82+5*9-\"\n",
    "result = evaluate_postfix(expression)\n",
    "print(\"Postfix Expression:\", expression)\n",
    "print(\"Result:\", result)"
   ]
  },
  {
   "cell_type": "code",
   "execution_count": 13,
   "id": "30de6ad3",
   "metadata": {},
   "outputs": [
    {
     "name": "stdout",
     "output_type": "stream",
     "text": [
      "1\n",
      "2\n",
      "3\n",
      "4\n",
      "None\n"
     ]
    }
   ],
   "source": [
    "#Implement a queue using the stack data structure\n",
    "class Queue:\n",
    "    def __init__(self):\n",
    "        self.stack1 = []\n",
    "        self.stack2 = []\n",
    "\n",
    "    def enqueue(self, data):\n",
    "        self.stack1.append(data)\n",
    "\n",
    "    def dequeue(self):\n",
    "        if not self.stack2:\n",
    "            if not self.stack1:\n",
    "                return None\n",
    "            while self.stack1:\n",
    "                self.stack2.append(self.stack1.pop())\n",
    "        return self.stack2.pop()\n",
    "\n",
    "# Example Usage\n",
    "q = Queue()\n",
    "q.enqueue(1)\n",
    "q.enqueue(2)\n",
    "q.enqueue(3)\n",
    "print(q.dequeue()) # 1\n",
    "print(q.dequeue()) # 2\n",
    "q.enqueue(4)\n",
    "print(q.dequeue()) # 3\n",
    "print(q.dequeue()) # 4\n",
    "print(q.dequeue()) # None"
   ]
  }
 ],
 "metadata": {
  "kernelspec": {
   "display_name": "Python 3 (ipykernel)",
   "language": "python",
   "name": "python3"
  },
  "language_info": {
   "codemirror_mode": {
    "name": "ipython",
    "version": 3
   },
   "file_extension": ".py",
   "mimetype": "text/x-python",
   "name": "python",
   "nbconvert_exporter": "python",
   "pygments_lexer": "ipython3",
   "version": "3.9.13"
  }
 },
 "nbformat": 4,
 "nbformat_minor": 5
}
