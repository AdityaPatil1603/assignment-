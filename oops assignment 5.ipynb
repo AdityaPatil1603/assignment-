{
 "cells": [
  {
   "cell_type": "code",
   "execution_count": 78,
   "id": "461ffb5b",
   "metadata": {},
   "outputs": [
    {
     "data": {
      "text/plain": [
       "35"
      ]
     },
     "execution_count": 78,
     "metadata": {},
     "output_type": "execute_result"
    }
   ],
   "source": [
    "class Point:                                                                              \n",
    "    def __init__(self,x,y,z):\n",
    "        self.x = x\n",
    "        self.y = y\n",
    "        self.z = z\n",
    "\n",
    "    def sqSum(self):\n",
    "         return (self.x**2+self.y**2+self.z**2)\n",
    "            \n",
    "x=Point(1,3,5)\n",
    "x.sqSum()\n",
    "        "
   ]
  },
  {
   "cell_type": "code",
   "execution_count": 3,
   "id": "b4c60958",
   "metadata": {},
   "outputs": [
    {
     "name": "stdout",
     "output_type": "stream",
     "text": [
      "104\n",
      "84\n",
      "940\n",
      "9.4\n"
     ]
    }
   ],
   "source": [
    "class Calculator:\n",
    "    def __init__(self,x,y):\n",
    "        self.x=x\n",
    "        self.y=y\n",
    "    def add(self):\n",
    "        return self.x+self.y\n",
    "    def subtract(self):\n",
    "        return self.x-self.y\n",
    "    def multiply (self):\n",
    "        return self.x*self.y\n",
    "    def divide (self):\n",
    "        return self.x / self.y\n",
    "    \n",
    "x= Calculator(94,10)\n",
    "print(x.add())\n",
    "print(x.subtract())\n",
    "print(x.multiply())\n",
    "print(x.divide())"
   ]
  },
  {
   "cell_type": "code",
   "execution_count": 3,
   "id": "f4b854ea",
   "metadata": {},
   "outputs": [
    {
     "name": "stdout",
     "output_type": "stream",
     "text": [
      "aditya\n",
      "1805012\n"
     ]
    }
   ],
   "source": [
    "class Student:\n",
    "    def __init__(self,Name=\" \",RollNumber=0):\n",
    "        self.__Name = Name\n",
    "        self.__RollNumber = RollNumber\n",
    "    def getName(self):\n",
    "        return self.__name\n",
    "    def setName(self,x):\n",
    "        self.__name = x\n",
    "    def getRollNumber(self):\n",
    "        return self.__RollNumber\n",
    "    def setRollNumber(self,y):\n",
    "        self.__RollNumber = y\n",
    "x = Student()\n",
    "y = Student()\n",
    "x.setName(\"aditya\")\n",
    "print(x.getName())  \n",
    "y.setRollNumber(1805012)\n",
    "print(y.getRollNumber())"
   ]
  },
  {
   "cell_type": "code",
   "execution_count": 116,
   "id": "07b92503",
   "metadata": {},
   "outputs": [
    {
     "name": "stdout",
     "output_type": "stream",
     "text": [
      "The customer name is : aditya\n",
      "Customer account balance is : 5000\n",
      "***********************************************\n",
      "The customer name is : aditya\n",
      "Customer account balance is : 5000\n",
      "The interest rate is : 5\n"
     ]
    }
   ],
   "source": [
    "class Account:\n",
    "    def __init__(self,title=\" \",balance=0):\n",
    "        self.title = title\n",
    "        print(\"The customer name is :\",self.title)\n",
    "        self.balance = balance\n",
    "        print(\"Customer account balance is :\",self.balance)\n",
    "class SavingsAccount(Account):\n",
    "    def __init__(self,title,balance,interestrate=0):\n",
    "        self.interestrate = interestrate\n",
    "        super().__init__(title,balance)\n",
    "        print(\"The interest rate is :\",self.interestrate)\n",
    "x=Account(\"aditya\",5000)\n",
    "print(\"***********************************************\")\n",
    "x=SavingsAccount(\"aditya\",5000,5)"
   ]
  },
  {
   "cell_type": "code",
   "execution_count": 122,
   "id": "e85e2d03",
   "metadata": {},
   "outputs": [
    {
     "name": "stdout",
     "output_type": "stream",
     "text": [
      "The account is created\n",
      "Enter the amount to be deposit: 20000\n",
      "The deposit is successful and the balance in the account is 20000.0\n",
      "Enter the amount to withdraw: 0\n",
      "The withdraw is successful and the balance is  20000.0\n",
      "Your account balance is : 20000.0\n",
      "--------------------------------------------------\n",
      "enter the interestrate :2\n",
      "The interestrate is : 2.0\n",
      "The account is created\n",
      "The interestamount is : 0.0\n"
     ]
    }
   ],
   "source": [
    "class Account:\n",
    "    def __init__(self,balance=0):\n",
    "        self.balance = balance\n",
    "        print (\"The account is created\")\n",
    "        \n",
    "    def deposit(self):\n",
    "        amount = float(input(\"Enter the amount to be deposit: \"))\n",
    "        self.balance = self.balance + amount\n",
    "        print (\"The deposit is successful and the balance in the account is\",self.balance)\n",
    "    \n",
    "    def withdraw(self):\n",
    "        amount = float(input(\"Enter the amount to withdraw: \"))\n",
    "        if (self.balance >= amount):\n",
    "            self.balance = self.balance - amount\n",
    "            print (\"The withdraw is successful and the balance is \",self.balance)\n",
    "        else:\n",
    "            print ('Insuficient Balance')\n",
    "            \n",
    "    def getbalance(self):\n",
    "        print(\"Your account balance is :\",self.balance)\n",
    "        \n",
    "\n",
    "class SavingsAccount(Account):\n",
    "    def __init__(self,balance=0,interestrate=0,interestamount=0):\n",
    "            interestrate=float(input(\"enter the interestrate :\"))\n",
    "            self.interestrate = interestrate\n",
    "            print(\"The interestrate is :\",self.interestrate)\n",
    "            self.interestamount = interestamount\n",
    "            super().__init__(balance)\n",
    "    def interestAmount(self):\n",
    "        self.interestamount = (self.interestrate * self.balance)/100\n",
    "        print(\"The interestamount is :\",self.interestamount)\n",
    "        \n",
    "    \n",
    "acc = Account()\n",
    "acc.deposit()\n",
    "acc.withdraw()\n",
    "acc.getbalance()\n",
    "print(\"--------------------------------------------------\")\n",
    "acc = SavingsAccount()\n",
    "acc.interestAmount()"
   ]
  },
  {
   "cell_type": "code",
   "execution_count": null,
   "id": "a6285e48",
   "metadata": {},
   "outputs": [],
   "source": []
  },
  {
   "cell_type": "code",
   "execution_count": null,
   "id": "74c4d56c",
   "metadata": {},
   "outputs": [],
   "source": []
  }
 ],
 "metadata": {
  "kernelspec": {
   "display_name": "Python 3 (ipykernel)",
   "language": "python",
   "name": "python3"
  },
  "language_info": {
   "codemirror_mode": {
    "name": "ipython",
    "version": 3
   },
   "file_extension": ".py",
   "mimetype": "text/x-python",
   "name": "python",
   "nbconvert_exporter": "python",
   "pygments_lexer": "ipython3",
   "version": "3.9.12"
  }
 },
 "nbformat": 4,
 "nbformat_minor": 5
}
