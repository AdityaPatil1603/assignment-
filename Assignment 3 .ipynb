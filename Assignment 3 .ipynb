{
 "cells": [
  {
   "cell_type": "code",
   "execution_count": null,
   "id": "e71d4947",
   "metadata": {},
   "outputs": [],
   "source": [
    "# Assignment 3:\n",
    "#itertools.combinations()\n",
    "from itertools import combinations as combi\n",
    "s, k = input().split()\n",
    "for i in range(1, int(k)+1):\n",
    "    print(\"\\n\".join(list(map(\"\".join,combi(sorted(s), i)))))"
   ]
  },
  {
   "cell_type": "code",
   "execution_count": 4,
   "id": "c6b22dac",
   "metadata": {},
   "outputs": [
    {
     "name": "stdout",
     "output_type": "stream",
     "text": [
      "1 2 \n",
      "3 4 \n",
      "(1, 3) (1, 4) (2, 3) (2, 4)\n"
     ]
    }
   ],
   "source": [
    "#itertools.product()\n",
    "from itertools import product\n",
    "A, B = sorted(map(int, (input().split()))), sorted(\n",
    "    map(int, (input().split())))\n",
    "print(str(list(product(A, B))).strip('[]').replace(\"),\", \")\"))\n"
   ]
  },
  {
   "cell_type": "code",
   "execution_count": null,
   "id": "d4b5b6b6",
   "metadata": {},
   "outputs": [],
   "source": [
    "#itertools.permutations()\n",
    "from itertools import permutations\n",
    "s, k = input().split()\n",
    "[print(\"\".join(i)) for i in sorted(permutations(s,int(k)))]"
   ]
  },
  {
   "cell_type": "code",
   "execution_count": null,
   "id": "7ff47a4f",
   "metadata": {},
   "outputs": [],
   "source": [
    "# Assignment 4:\n",
    "#Classes: Dealing with Complex Numbers\n",
    "\n",
    "import math\n",
    "class Complex(object):\n",
    "    def __init__(self, real, imaginary):\n",
    "        self.real = real\n",
    "        self.imaginary = imaginary\n",
    "        \n",
    "    def __add__(self, no):\n",
    "        return Complex(self.real + no.real , self.imaginary + no.imaginary)\n",
    "        \n",
    "    def __sub__(self, no):\n",
    "        return Complex(self.real - no.real , self.imaginary - no.imaginary)       \n",
    "        \n",
    "    def __mul__(self, no):\n",
    "        prod = complex(self.real , self.imaginary)*complex(no.real , no.imaginary)\n",
    "        return Complex(prod.real , prod.imag)\n",
    "\n",
    "    def __truediv__(self, no):\n",
    "        div = complex(self.real , self.imaginary)/complex(no.real , no.imaginary)\n",
    "        return Complex(div.real , div.imag)\n",
    "\n",
    "\n",
    "    def mod(self):\n",
    "        m = math.sqrt(self.real**2 + self.imaginary**2)\n",
    "        return Complex(m,0)\n",
    "\n",
    "    def __str__(self):\n",
    "        if self.imaginary == 0:\n",
    "            result = \"%.2f+0.00i\" % (self.real)\n",
    "        elif self.real == 0:\n",
    "            if self.imaginary >= 0:\n",
    "                result = \"0.00+%.2fi\" % (self.imaginary)\n",
    "            else:\n",
    "                result = \"0.00-%.2fi\" % (abs(self.imaginary))\n",
    "        elif self.imaginary > 0:\n",
    "            result = \"%.2f+%.2fi\" % (self.real, self.imaginary)\n",
    "        else:\n",
    "            result = \"%.2f-%.2fi\" % (self.real, abs(self.imaginary))\n",
    "        return result\n",
    "\n",
    "\n",
    "if __name__ == '__main__':\n",
    "    c = map(float, input().split())\n",
    "    d = map(float, input().split())\n",
    "    x = Complex(*c)\n",
    "    y = Complex(*d)\n",
    "    print(*map(str, [x+y, x-y, x*y, x/y, x.mod(), y.mod()]), sep='\\n')"
   ]
  },
  {
   "cell_type": "code",
   "execution_count": 7,
   "id": "8b6b42be",
   "metadata": {},
   "outputs": [
    {
     "name": "stdout",
     "output_type": "stream",
     "text": [
      "0 4 5\n",
      "1 7 6 \n",
      "0 5 9\n",
      "1 7 2\n",
      "8.19\n"
     ]
    }
   ],
   "source": [
    "#Class 2 - Find the Torsional Angle\n",
    "import math\n",
    "from math import sqrt\n",
    "\n",
    "\n",
    "class Points(object):\n",
    "    def __init__(self, x, y, z):\n",
    "        self.x = x\n",
    "        self.y = y\n",
    "        self.z = z\n",
    "\n",
    "    def __sub__(self, no):\n",
    "        return Points(self.x - no.x,\n",
    "                      self.y - no.y,\n",
    "                      self.z - no.z)\n",
    "\n",
    "    def dot(self, no):\n",
    "        return self.x * no.x + self.y * no.y + self.z * no.z\n",
    "\n",
    "    def cross(self, no):\n",
    "        return Points(self.y * no.z - self.z * no.y,\n",
    "                      self.z * no.x - self.x * no.z,\n",
    "                      self.x * no.y - self.y * no.x)\n",
    "\n",
    "    def absolute(self):\n",
    "        return sqrt((self.x ** 2 + self.y ** 2 + self.z ** 2))\n",
    "if __name__ == '__main__':\n",
    "    points = list()\n",
    "    for i in range(4):\n",
    "        a = list(map(float, input().split()))\n",
    "        points.append(a)\n",
    "\n",
    "    a, b, c, d = Points(*points[0]), Points(*points[1]), Points(*points[2]), Points(*points[3])\n",
    "    x = (b - a).cross(c - b)\n",
    "    y = (c - b).cross(d - c)\n",
    "    angle = math.acos(x.dot(y) / (x.absolute() * y.absolute()))\n",
    "\n",
    "    print(\"%.2f\" % math.degrees(angle))"
   ]
  },
  {
   "cell_type": "code",
   "execution_count": null,
   "id": "6743a739",
   "metadata": {},
   "outputs": [],
   "source": [
    "# Assignment 5\n",
    "#XML 1 - Find the Score\n",
    "import sys\n",
    "import xml.etree.ElementTree as etree\n",
    "\n",
    "def get_attr_number(node):\n",
    "    return len(node.attrib) + sum(get_attr_number(succ) for succ in node)\n",
    "\n",
    "if __name__ == '__main__':\n",
    "    sys.stdin.readline()\n",
    "    xml = sys.stdin.read()\n",
    "    tree = etree.ElementTree(etree.fromstring(xml))\n",
    "    root = tree.getroot()\n",
    "    print(get_attr_number(root))"
   ]
  },
  {
   "cell_type": "code",
   "execution_count": null,
   "id": "38c9f805",
   "metadata": {},
   "outputs": [],
   "source": [
    "#XML2 - Find the Maximum Depth\n",
    "import xml.etree.ElementTree as etree\n",
    "\n",
    "maxdepth = 0\n",
    "def depth(elem, level):\n",
    "    global maxdepth\n",
    "    maxdepth = max(maxdepth, level+1)\n",
    "    for child in elem:\n",
    "        depth(child, level+1)\n",
    "if __name__ == '__main__':\n",
    "    n = int(input())\n",
    "    xml = \"\"\n",
    "    for i in range(n):\n",
    "        xml =  xml + input() + \"\\n\"\n",
    "    tree = etree.ElementTree(etree.fromstring(xml))\n",
    "    depth(tree.getroot(), -1)\n",
    "    print(maxdepth)"
   ]
  }
 ],
 "metadata": {
  "kernelspec": {
   "display_name": "Python 3 (ipykernel)",
   "language": "python",
   "name": "python3"
  },
  "language_info": {
   "codemirror_mode": {
    "name": "ipython",
    "version": 3
   },
   "file_extension": ".py",
   "mimetype": "text/x-python",
   "name": "python",
   "nbconvert_exporter": "python",
   "pygments_lexer": "ipython3",
   "version": "3.10.7"
  }
 },
 "nbformat": 4,
 "nbformat_minor": 5
}
