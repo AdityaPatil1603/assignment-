{
 "cells": [
  {
   "cell_type": "code",
   "execution_count": 1,
   "id": "1ba6b268",
   "metadata": {},
   "outputs": [
    {
     "name": "stdout",
     "output_type": "stream",
     "text": [
      "Element 10 is present at index 3\n"
     ]
    }
   ],
   "source": [
    "#Implement Binary Search\n",
    "def binary_search(arr, low, high, x):\n",
    "    if high >= low:\n",
    "\n",
    "        mid = (high + low) // 2\n",
    "        if arr[mid] == x:\n",
    "            return mid\n",
    "        elif arr[mid] > x:\n",
    "            return binary_search(arr, low, mid - 1, x)\n",
    "        else:\n",
    "            return binary_search(arr, mid + 1, high, x)\n",
    "    else:\n",
    "        return -1\n",
    "arr = [2, 3, 4, 10, 40]\n",
    "x = 10\n",
    "\n",
    "result = binary_search(arr, 0, len(arr) - 1, x)\n",
    "\n",
    "if result != -1:\n",
    "    print(f\"Element {x} is present at index {result}\")\n",
    "else:\n",
    "    print(\"Element is not present in array\")"
   ]
  },
  {
   "cell_type": "code",
   "execution_count": 11,
   "id": "79181c6d",
   "metadata": {},
   "outputs": [
    {
     "name": "stdout",
     "output_type": "stream",
     "text": [
      "[1, 4, 9, 10, 23, 63, 90]\n"
     ]
    }
   ],
   "source": [
    "#Implement Merge Sort\n",
    "def merge_sort(arr):\n",
    "        if len(arr) <= 1:\n",
    "            return arr\n",
    "        mid = len(arr) // 2\n",
    "        left_arr = arr[:mid]\n",
    "        right_arr = arr[mid:]\n",
    "        left_arr = merge_sort(left_arr)\n",
    "        right_arr = merge_sort(right_arr)\n",
    "\n",
    "        return merge(left_arr, right_arr)\n",
    "\n",
    "def merge(left_arr, right_arr):\n",
    "    i = 0\n",
    "    j = 0\n",
    "    merged_arr = []\n",
    "    while i < len(left_arr) and j < len(right_arr):\n",
    "        if left_arr[i] <= right_arr[j]:\n",
    "            merged_arr.append(left_arr[i])\n",
    "            i += 1\n",
    "        else:\n",
    "            merged_arr.append(right_arr[j])\n",
    "            j += 1\n",
    "    \n",
    "    while i < len(left_arr):\n",
    "        merged_arr.append(left_arr[i])\n",
    "        i += 1\n",
    "    \n",
    "    while j < len(right_arr):\n",
    "        merged_arr.append(right_arr[j])\n",
    "        j += 1\n",
    "    \n",
    "    return merged_arr\n",
    "arr = [10, 4, 63, 90, 23, 1, 9]\n",
    "sorted_arr = merge_sort(arr)\n",
    "print(sorted_arr)"
   ]
  },
  {
   "cell_type": "code",
   "execution_count": 12,
   "id": "ee9a65b7",
   "metadata": {},
   "outputs": [
    {
     "name": "stdout",
     "output_type": "stream",
     "text": [
      "[1, 4, 9, 10, 23, 63, 90]\n"
     ]
    }
   ],
   "source": [
    "def quick_sort(arr):\n",
    "    if len(arr) <= 1:\n",
    "        return arr\n",
    "    \n",
    "    pivot = arr[len(arr) // 2]\n",
    "    left_arr = [x for x in arr if x < pivot]\n",
    "    middle_arr = [x for x in arr if x == pivot]\n",
    "    right_arr = [x for x in arr if x > pivot]\n",
    "\n",
    "    return quick_sort(left_arr) + middle_arr + quick_sort(right_arr)\n",
    "arr = [10, 4, 63, 90, 23, 1, 9]\n",
    "sorted_arr = quick_sort(arr)\n",
    "print(sorted_arr)"
   ]
  },
  {
   "cell_type": "code",
   "execution_count": 13,
   "id": "fc4a2dc3",
   "metadata": {},
   "outputs": [
    {
     "name": "stdout",
     "output_type": "stream",
     "text": [
      "[1, 2, 3, 4, 5, 6, 7, 8, 10]\n"
     ]
    }
   ],
   "source": [
    "#Implement Insertion Sort\n",
    "def insertion_sort(arr):\n",
    "    for i in range(1, len(arr)):\n",
    "        key = arr[i]\n",
    "        j = i - 1\n",
    "        while j >= 0 and arr[j] > key:\n",
    "            arr[j + 1] = arr[j]\n",
    "            j -= 1\n",
    "        arr[j + 1] = key\n",
    "    \n",
    "    return arr\n",
    "arr = [10,8,6,4,3,5,2,7,1]\n",
    "sorted_arr = insertion_sort(arr)\n",
    "print(sorted_arr)"
   ]
  },
  {
   "cell_type": "code",
   "execution_count": 14,
   "id": "4531e18c",
   "metadata": {},
   "outputs": [
    {
     "name": "stdout",
     "output_type": "stream",
     "text": [
      "['age: 35', 'age: 25', 'location: California', 'location: New York', 'name: John', 'name: Mary']\n"
     ]
    }
   ],
   "source": [
    "#Write a program to sort list of strings (similar to that of dictionary)\n",
    "def sort_dict_strings(lst):\n",
    "    def dict_key(s):\n",
    "        return s.split(':')[0]\n",
    "    \n",
    "    sorted_lst = sorted(lst, key=dict_key)\n",
    "    return sorted_lst\n",
    "lst = ['name: John', 'age: 35', 'location: California', 'name: Mary', 'age: 25', 'location: New York']\n",
    "sorted_lst = sort_dict_strings(lst)\n",
    "print(sorted_lst)"
   ]
  }
 ],
 "metadata": {
  "kernelspec": {
   "display_name": "Python 3 (ipykernel)",
   "language": "python",
   "name": "python3"
  },
  "language_info": {
   "codemirror_mode": {
    "name": "ipython",
    "version": 3
   },
   "file_extension": ".py",
   "mimetype": "text/x-python",
   "name": "python",
   "nbconvert_exporter": "python",
   "pygments_lexer": "ipython3",
   "version": "3.9.13"
  }
 },
 "nbformat": 4,
 "nbformat_minor": 5
}
