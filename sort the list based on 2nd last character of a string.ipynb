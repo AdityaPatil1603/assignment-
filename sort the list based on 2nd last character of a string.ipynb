{
 "cells": [
  {
   "cell_type": "code",
   "execution_count": 35,
   "id": "c8ed13d7",
   "metadata": {},
   "outputs": [
    {
     "name": "stdout",
     "output_type": "stream",
     "text": [
      "Enter the list length:4\n",
      "Enter the list value\n",
      "hello\n",
      "great\n",
      "hi\n",
      "dad\n",
      "['hello', 'great', 'hi', 'dad']\n",
      "Sorted list is: ['great', 'dad', 'hi', 'hello']\n"
     ]
    }
   ],
   "source": [
    "#sort list based on 2nd last charachter of the string \n",
    "list=[]\n",
    "size=int(input(\"Enter the list length:\"))\n",
    "print(\"Enter the list value\")\n",
    "for a in range(size):\n",
    "    value=input()\n",
    "    list.append(value)\n",
    "print(list)\n",
    "list.sort(key=lambda x:x[-2])\n",
    "print(\"Sorted list is:\",list)"
   ]
  },
  {
   "cell_type": "code",
   "execution_count": null,
   "id": "bb2aad06",
   "metadata": {},
   "outputs": [],
   "source": []
  }
 ],
 "metadata": {
  "kernelspec": {
   "display_name": "Python 3 (ipykernel)",
   "language": "python",
   "name": "python3"
  },
  "language_info": {
   "codemirror_mode": {
    "name": "ipython",
    "version": 3
   },
   "file_extension": ".py",
   "mimetype": "text/x-python",
   "name": "python",
   "nbconvert_exporter": "python",
   "pygments_lexer": "ipython3",
   "version": "3.10.7"
  }
 },
 "nbformat": 4,
 "nbformat_minor": 5
}
