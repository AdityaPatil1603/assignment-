{
 "cells": [
  {
   "cell_type": "code",
   "execution_count": 35,
   "id": "5e4f47d8",
   "metadata": {},
   "outputs": [
    {
     "data": {
      "text/html": [
       "<div>\n",
       "<style scoped>\n",
       "    .dataframe tbody tr th:only-of-type {\n",
       "        vertical-align: middle;\n",
       "    }\n",
       "\n",
       "    .dataframe tbody tr th {\n",
       "        vertical-align: top;\n",
       "    }\n",
       "\n",
       "    .dataframe thead th {\n",
       "        text-align: right;\n",
       "    }\n",
       "</style>\n",
       "<table border=\"1\" class=\"dataframe\">\n",
       "  <thead>\n",
       "    <tr style=\"text-align: right;\">\n",
       "      <th></th>\n",
       "      <th>Year</th>\n",
       "      <th>OGC</th>\n",
       "      <th>OG</th>\n",
       "      <th>DC</th>\n",
       "      <th>Dept</th>\n",
       "      <th>UC</th>\n",
       "      <th>Union</th>\n",
       "      <th>JF</th>\n",
       "      <th>Job</th>\n",
       "      <th>EI</th>\n",
       "      <th>Salaries</th>\n",
       "      <th>Overtime</th>\n",
       "      <th>H/D</th>\n",
       "      <th>YT</th>\n",
       "      <th>Total_Compensation</th>\n",
       "    </tr>\n",
       "  </thead>\n",
       "  <tbody>\n",
       "    <tr>\n",
       "      <th>0</th>\n",
       "      <td>2015</td>\n",
       "      <td>4</td>\n",
       "      <td>Community Health</td>\n",
       "      <td>DPH</td>\n",
       "      <td>Public Health</td>\n",
       "      <td>250</td>\n",
       "      <td>SEIU - Health Workers, Local 1021</td>\n",
       "      <td>Med Therapy &amp; Auxiliary</td>\n",
       "      <td>Morgue Attendant</td>\n",
       "      <td>6725</td>\n",
       "      <td>12196</td>\n",
       "      <td>0</td>\n",
       "      <td>0.00</td>\n",
       "      <td>Calendar</td>\n",
       "      <td>16158</td>\n",
       "    </tr>\n",
       "    <tr>\n",
       "      <th>1</th>\n",
       "      <td>2013</td>\n",
       "      <td>4</td>\n",
       "      <td>Community Health</td>\n",
       "      <td>DPH</td>\n",
       "      <td>Public Health</td>\n",
       "      <td>39</td>\n",
       "      <td>Stationary Engineers, Local 39</td>\n",
       "      <td>Journeyman Trade</td>\n",
       "      <td>Stationary Engineer</td>\n",
       "      <td>25058</td>\n",
       "      <td>74639</td>\n",
       "      <td>2820</td>\n",
       "      <td>12703.31</td>\n",
       "      <td>Fiscal</td>\n",
       "      <td>115784</td>\n",
       "    </tr>\n",
       "    <tr>\n",
       "      <th>2</th>\n",
       "      <td>2015</td>\n",
       "      <td>6</td>\n",
       "      <td>General Administration &amp; Finance</td>\n",
       "      <td>ASR</td>\n",
       "      <td>Assessor/Recorder</td>\n",
       "      <td>21</td>\n",
       "      <td>Prof &amp; Tech Engineers - Miscellaneous, Local 21</td>\n",
       "      <td>Appraisal &amp; Taxation</td>\n",
       "      <td>Senior Real Property Appraiser</td>\n",
       "      <td>46108</td>\n",
       "      <td>100554</td>\n",
       "      <td>0</td>\n",
       "      <td>12424.50</td>\n",
       "      <td>Calendar</td>\n",
       "      <td>144708</td>\n",
       "    </tr>\n",
       "    <tr>\n",
       "      <th>3</th>\n",
       "      <td>2016</td>\n",
       "      <td>1</td>\n",
       "      <td>Public Protection</td>\n",
       "      <td>POL</td>\n",
       "      <td>Police</td>\n",
       "      <td>911</td>\n",
       "      <td>Police Officers' Association</td>\n",
       "      <td>Police Services</td>\n",
       "      <td>Sergeant 3</td>\n",
       "      <td>33369</td>\n",
       "      <td>140164</td>\n",
       "      <td>52754</td>\n",
       "      <td>13043.87</td>\n",
       "      <td>Fiscal</td>\n",
       "      <td>242323</td>\n",
       "    </tr>\n",
       "    <tr>\n",
       "      <th>4</th>\n",
       "      <td>2013</td>\n",
       "      <td>2</td>\n",
       "      <td>Public Works, Transportation &amp; Commerce</td>\n",
       "      <td>HHP</td>\n",
       "      <td>PUC Hetch Hetchy</td>\n",
       "      <td>21</td>\n",
       "      <td>Prof &amp; Tech Engineers - Miscellaneous, Local 21</td>\n",
       "      <td>Information Systems</td>\n",
       "      <td>IS Engineer-Journey</td>\n",
       "      <td>28684</td>\n",
       "      <td>58813</td>\n",
       "      <td>0</td>\n",
       "      <td>7655.28</td>\n",
       "      <td>Calendar</td>\n",
       "      <td>82106</td>\n",
       "    </tr>\n",
       "  </tbody>\n",
       "</table>\n",
       "</div>"
      ],
      "text/plain": [
       "   Year  OGC                                       OG   DC               Dept  \\\n",
       "0  2015    4                         Community Health  DPH      Public Health   \n",
       "1  2013    4                         Community Health  DPH      Public Health   \n",
       "2  2015    6         General Administration & Finance  ASR  Assessor/Recorder   \n",
       "3  2016    1                        Public Protection  POL             Police   \n",
       "4  2013    2  Public Works, Transportation & Commerce  HHP   PUC Hetch Hetchy   \n",
       "\n",
       "    UC                                            Union  \\\n",
       "0  250                SEIU - Health Workers, Local 1021   \n",
       "1   39                   Stationary Engineers, Local 39   \n",
       "2   21  Prof & Tech Engineers - Miscellaneous, Local 21   \n",
       "3  911                     Police Officers' Association   \n",
       "4   21  Prof & Tech Engineers - Miscellaneous, Local 21   \n",
       "\n",
       "                        JF                             Job     EI  Salaries  \\\n",
       "0  Med Therapy & Auxiliary                Morgue Attendant   6725     12196   \n",
       "1         Journeyman Trade             Stationary Engineer  25058     74639   \n",
       "2     Appraisal & Taxation  Senior Real Property Appraiser  46108    100554   \n",
       "3          Police Services                      Sergeant 3  33369    140164   \n",
       "4      Information Systems             IS Engineer-Journey  28684     58813   \n",
       "\n",
       "   Overtime       H/D        YT  Total_Compensation  \n",
       "0         0      0.00  Calendar               16158  \n",
       "1      2820  12703.31    Fiscal              115784  \n",
       "2         0  12424.50  Calendar              144708  \n",
       "3     52754  13043.87    Fiscal              242323  \n",
       "4         0   7655.28  Calendar               82106  "
      ]
     },
     "execution_count": 35,
     "metadata": {},
     "output_type": "execute_result"
    }
   ],
   "source": [
    "#loading the libraries \n",
    "import pandas as pd\n",
    "import numpy as np\n",
    "from sklearn.model_selection import train_test_split\n",
    "from sklearn.linear_model import LinearRegression\n",
    "from sklearn.metrics import mean_absolute_error, mean_squared_error, r2_score\n",
    "\n",
    "# Load the dataset \n",
    "df=pd.read_csv('c://Users/Admin/Downloads/train_set.csv')\n",
    "df.head()"
   ]
  },
  {
   "cell_type": "code",
   "execution_count": 3,
   "id": "38ed1881",
   "metadata": {},
   "outputs": [
    {
     "data": {
      "text/plain": [
       "Year                   0\n",
       "OGC                    0\n",
       "OG                     0\n",
       "DC                     0\n",
       "Dept                   0\n",
       "UC                     0\n",
       "Union                 36\n",
       "JF                    38\n",
       "Job                    0\n",
       "EI                     0\n",
       "Salaries               0\n",
       "Overtime               0\n",
       "H/D                    0\n",
       "YT                     0\n",
       "Total_Compensation     0\n",
       "dtype: int64"
      ]
     },
     "execution_count": 3,
     "metadata": {},
     "output_type": "execute_result"
    }
   ],
   "source": [
    "df.isnull().sum()"
   ]
  },
  {
   "cell_type": "code",
   "execution_count": 9,
   "id": "14e45be4",
   "metadata": {},
   "outputs": [],
   "source": [
    "# Handling missing data\n",
    "df.dropna(inplace=True)"
   ]
  },
  {
   "cell_type": "code",
   "execution_count": 10,
   "id": "5ba27132",
   "metadata": {},
   "outputs": [],
   "source": [
    "# Converting categorical features into numerical values\n",
    "df[\"OGC\"] = pd.factorize(df[\"OGC\"])[0]\n",
    "df[\"OG\"] = pd.factorize(df[\"OG\"])[0]"
   ]
  },
  {
   "cell_type": "code",
   "execution_count": 11,
   "id": "2e8d234b",
   "metadata": {},
   "outputs": [],
   "source": [
    "# Split the data into training and testing sets\n",
    "x = df.drop(\"Total_Compensation\", axis=1)\n",
    "y = df[\"Total_Compensation\"]\n",
    "x_train, x_test, y_train, y_test = train_test_split(x, y, test_size=0.2, random_state=42)"
   ]
  },
  {
   "cell_type": "code",
   "execution_count": 13,
   "id": "4d1de52e",
   "metadata": {},
   "outputs": [
    {
     "data": {
      "text/html": [
       "<style>#sk-container-id-1 {color: black;background-color: white;}#sk-container-id-1 pre{padding: 0;}#sk-container-id-1 div.sk-toggleable {background-color: white;}#sk-container-id-1 label.sk-toggleable__label {cursor: pointer;display: block;width: 100%;margin-bottom: 0;padding: 0.3em;box-sizing: border-box;text-align: center;}#sk-container-id-1 label.sk-toggleable__label-arrow:before {content: \"▸\";float: left;margin-right: 0.25em;color: #696969;}#sk-container-id-1 label.sk-toggleable__label-arrow:hover:before {color: black;}#sk-container-id-1 div.sk-estimator:hover label.sk-toggleable__label-arrow:before {color: black;}#sk-container-id-1 div.sk-toggleable__content {max-height: 0;max-width: 0;overflow: hidden;text-align: left;background-color: #f0f8ff;}#sk-container-id-1 div.sk-toggleable__content pre {margin: 0.2em;color: black;border-radius: 0.25em;background-color: #f0f8ff;}#sk-container-id-1 input.sk-toggleable__control:checked~div.sk-toggleable__content {max-height: 200px;max-width: 100%;overflow: auto;}#sk-container-id-1 input.sk-toggleable__control:checked~label.sk-toggleable__label-arrow:before {content: \"▾\";}#sk-container-id-1 div.sk-estimator input.sk-toggleable__control:checked~label.sk-toggleable__label {background-color: #d4ebff;}#sk-container-id-1 div.sk-label input.sk-toggleable__control:checked~label.sk-toggleable__label {background-color: #d4ebff;}#sk-container-id-1 input.sk-hidden--visually {border: 0;clip: rect(1px 1px 1px 1px);clip: rect(1px, 1px, 1px, 1px);height: 1px;margin: -1px;overflow: hidden;padding: 0;position: absolute;width: 1px;}#sk-container-id-1 div.sk-estimator {font-family: monospace;background-color: #f0f8ff;border: 1px dotted black;border-radius: 0.25em;box-sizing: border-box;margin-bottom: 0.5em;}#sk-container-id-1 div.sk-estimator:hover {background-color: #d4ebff;}#sk-container-id-1 div.sk-parallel-item::after {content: \"\";width: 100%;border-bottom: 1px solid gray;flex-grow: 1;}#sk-container-id-1 div.sk-label:hover label.sk-toggleable__label {background-color: #d4ebff;}#sk-container-id-1 div.sk-serial::before {content: \"\";position: absolute;border-left: 1px solid gray;box-sizing: border-box;top: 0;bottom: 0;left: 50%;z-index: 0;}#sk-container-id-1 div.sk-serial {display: flex;flex-direction: column;align-items: center;background-color: white;padding-right: 0.2em;padding-left: 0.2em;position: relative;}#sk-container-id-1 div.sk-item {position: relative;z-index: 1;}#sk-container-id-1 div.sk-parallel {display: flex;align-items: stretch;justify-content: center;background-color: white;position: relative;}#sk-container-id-1 div.sk-item::before, #sk-container-id-1 div.sk-parallel-item::before {content: \"\";position: absolute;border-left: 1px solid gray;box-sizing: border-box;top: 0;bottom: 0;left: 50%;z-index: -1;}#sk-container-id-1 div.sk-parallel-item {display: flex;flex-direction: column;z-index: 1;position: relative;background-color: white;}#sk-container-id-1 div.sk-parallel-item:first-child::after {align-self: flex-end;width: 50%;}#sk-container-id-1 div.sk-parallel-item:last-child::after {align-self: flex-start;width: 50%;}#sk-container-id-1 div.sk-parallel-item:only-child::after {width: 0;}#sk-container-id-1 div.sk-dashed-wrapped {border: 1px dashed gray;margin: 0 0.4em 0.5em 0.4em;box-sizing: border-box;padding-bottom: 0.4em;background-color: white;}#sk-container-id-1 div.sk-label label {font-family: monospace;font-weight: bold;display: inline-block;line-height: 1.2em;}#sk-container-id-1 div.sk-label-container {text-align: center;}#sk-container-id-1 div.sk-container {/* jupyter's `normalize.less` sets `[hidden] { display: none; }` but bootstrap.min.css set `[hidden] { display: none !important; }` so we also need the `!important` here to be able to override the default hidden behavior on the sphinx rendered scikit-learn.org. See: https://github.com/scikit-learn/scikit-learn/issues/21755 */display: inline-block !important;position: relative;}#sk-container-id-1 div.sk-text-repr-fallback {display: none;}</style><div id=\"sk-container-id-1\" class=\"sk-top-container\"><div class=\"sk-text-repr-fallback\"><pre>LinearRegression()</pre><b>In a Jupyter environment, please rerun this cell to show the HTML representation or trust the notebook. <br />On GitHub, the HTML representation is unable to render, please try loading this page with nbviewer.org.</b></div><div class=\"sk-container\" hidden><div class=\"sk-item\"><div class=\"sk-estimator sk-toggleable\"><input class=\"sk-toggleable__control sk-hidden--visually\" id=\"sk-estimator-id-1\" type=\"checkbox\" checked><label for=\"sk-estimator-id-1\" class=\"sk-toggleable__label sk-toggleable__label-arrow\">LinearRegression</label><div class=\"sk-toggleable__content\"><pre>LinearRegression()</pre></div></div></div></div></div>"
      ],
      "text/plain": [
       "LinearRegression()"
      ]
     },
     "execution_count": 13,
     "metadata": {},
     "output_type": "execute_result"
    }
   ],
   "source": [
    "# training the model\n",
    "model = LinearRegression()\n",
    "model.fit(x_train, y_train)"
   ]
  },
  {
   "cell_type": "code",
   "execution_count": 15,
   "id": "7484462b",
   "metadata": {},
   "outputs": [],
   "source": [
    "# Predictions on the testing set\n",
    "y_pred = model.predict(x_test)"
   ]
  },
  {
   "cell_type": "code",
   "execution_count": 17,
   "id": "c9a2f479",
   "metadata": {},
   "outputs": [
    {
     "name": "stdout",
     "output_type": "stream",
     "text": [
      "Mean Absolute Error: 4076.1996230369414\n",
      "Root Mean Squared Error: 7635.4567333726545\n",
      "R-squared: 0.9872471387345298\n"
     ]
    }
   ],
   "source": [
    "# Evaluate the performance of the model\n",
    "mae = mean_absolute_error(y_test, y_pred)\n",
    "mse = mean_squared_error(y_test, y_pred)\n",
    "rmse = np.sqrt(mse)\n",
    "r2 = r2_score(y_test, y_pred)\n",
    "print(\"Mean Absolute Error:\", mae)\n",
    "print(\"Root Mean Squared Error:\", rmse)\n",
    "print(\"R-squared:\", r2)"
   ]
  },
  {
   "cell_type": "code",
   "execution_count": null,
   "id": "c9fbce93",
   "metadata": {},
   "outputs": [],
   "source": []
  },
  {
   "cell_type": "code",
   "execution_count": null,
   "id": "f0062a3f",
   "metadata": {},
   "outputs": [],
   "source": []
  },
  {
   "cell_type": "code",
   "execution_count": 22,
   "id": "ded90b4a",
   "metadata": {},
   "outputs": [],
   "source": []
  },
  {
   "cell_type": "code",
   "execution_count": 24,
   "id": "55c4d463",
   "metadata": {},
   "outputs": [],
   "source": []
  },
  {
   "cell_type": "code",
   "execution_count": 25,
   "id": "38d5dba8",
   "metadata": {},
   "outputs": [],
   "source": []
  },
  {
   "cell_type": "code",
   "execution_count": null,
   "id": "24b66b22",
   "metadata": {},
   "outputs": [],
   "source": []
  },
  {
   "cell_type": "code",
   "execution_count": null,
   "id": "b11588ae",
   "metadata": {},
   "outputs": [],
   "source": []
  },
  {
   "cell_type": "code",
   "execution_count": null,
   "id": "12939e45",
   "metadata": {},
   "outputs": [],
   "source": []
  },
  {
   "cell_type": "code",
   "execution_count": null,
   "id": "69d8de9e",
   "metadata": {},
   "outputs": [],
   "source": []
  },
  {
   "cell_type": "code",
   "execution_count": null,
   "id": "80d11e52",
   "metadata": {},
   "outputs": [],
   "source": []
  },
  {
   "cell_type": "code",
   "execution_count": null,
   "id": "afd8cc6f",
   "metadata": {},
   "outputs": [],
   "source": []
  }
 ],
 "metadata": {
  "kernelspec": {
   "display_name": "Python 3 (ipykernel)",
   "language": "python",
   "name": "python3"
  },
  "language_info": {
   "codemirror_mode": {
    "name": "ipython",
    "version": 3
   },
   "file_extension": ".py",
   "mimetype": "text/x-python",
   "name": "python",
   "nbconvert_exporter": "python",
   "pygments_lexer": "ipython3",
   "version": "3.9.13"
  }
 },
 "nbformat": 4,
 "nbformat_minor": 5
}
