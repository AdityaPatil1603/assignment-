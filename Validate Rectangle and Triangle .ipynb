{
 "cells": [
  {
   "cell_type": "code",
   "execution_count": 22,
   "id": "20352abc",
   "metadata": {},
   "outputs": [
    {
     "name": "stdout",
     "output_type": "stream",
     "text": [
      "Enter the 1st side value : 3\n",
      "Enter the 2nd side value : 4\n",
      "Enter the 3rd side value : 5\n",
      "Valid Triangle\n",
      "Enter the 1st side value : 2\n",
      "Enter the 2nd side value : 4\n",
      "Enter the 3rd side value : 2\n",
      "Enter the 4th side value : 4\n",
      "valid Rectangle\n"
     ]
    }
   ],
   "source": [
    "class validate:\n",
    "    def Triangle(self):\n",
    "        self.a=int(input(\"Enter the 1st side value : \"))\n",
    "        self.b=int(input(\"Enter the 2nd side value : \"))\n",
    "        self.c=int(input(\"Enter the 3rd side value : \"))\n",
    "        if (self.a + self.b <= self.c) or (self.a + self.c <= self.b) or (self.b + self.c <= self.a) :\n",
    "            print(\"Invalid Triangle\")\n",
    "        else:\n",
    "            print(\"Valid Triangle\")\n",
    "    def Rectangle(self):\n",
    "        self.a=int(input(\"Enter the 1st side value : \"))\n",
    "        self.b=int(input(\"Enter the 2nd side value : \"))\n",
    "        self.c=int(input(\"Enter the 3rd side value : \"))\n",
    "        self.d=int(input(\"Enter the 4th side value : \"))\n",
    "        if (self.a == self.b and self.d == self.c) or (self.a == self.c and self.b == self.d) or (self.a == self.d and self.b == self.c):\n",
    "            print(\"valid Rectangle\")\n",
    "        else:\n",
    "            print(\"Invalid Rectangle\")\n",
    "x=validate()\n",
    "x.Triangle()\n",
    "x.Rectangle()"
   ]
  },
  {
   "cell_type": "code",
   "execution_count": null,
   "id": "32815fb5",
   "metadata": {},
   "outputs": [],
   "source": []
  },
  {
   "cell_type": "code",
   "execution_count": null,
   "id": "7e0bc0a0",
   "metadata": {},
   "outputs": [],
   "source": []
  }
 ],
 "metadata": {
  "kernelspec": {
   "display_name": "Python 3 (ipykernel)",
   "language": "python",
   "name": "python3"
  },
  "language_info": {
   "codemirror_mode": {
    "name": "ipython",
    "version": 3
   },
   "file_extension": ".py",
   "mimetype": "text/x-python",
   "name": "python",
   "nbconvert_exporter": "python",
   "pygments_lexer": "ipython3",
   "version": "3.10.7"
  }
 },
 "nbformat": 4,
 "nbformat_minor": 5
}
