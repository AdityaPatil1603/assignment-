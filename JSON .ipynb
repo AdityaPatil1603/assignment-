{
 "cells": [
  {
   "cell_type": "code",
   "execution_count": 47,
   "id": "f0ed5f86",
   "metadata": {},
   "outputs": [
    {
     "name": "stdout",
     "output_type": "stream",
     "text": [
      "[\n",
      "     {\n",
      "          \"employee_name\": \"sathiyajith\",\n",
      "          \"employee_DOB\": 16,\n",
      "          \"Height\": 5.6,\n",
      "          \"city\": \"Mumbai\",\n",
      "          \"state\": \"Maharashtra\"\n",
      "     },\n",
      "     {\n",
      "          \"employee_name\": \"aditya\",\n",
      "          \"employee_DOB\": 1,\n",
      "          \"Height\": 5.8,\n",
      "          \"city\": \"Pune\",\n",
      "          \"state\": \"Maharashtra\"\n",
      "     },\n",
      "     {\n",
      "          \"employee_name\": \"divya\",\n",
      "          \"employee_DOB\": 29,\n",
      "          \"Height\": 5.4,\n",
      "          \"city\": \"Benglore\",\n",
      "          \"state\": \"Karnatak\"\n",
      "     },\n",
      "     {\n",
      "          \"employee_name\": \"oparth\",\n",
      "          \"employee_DOB\": 25,\n",
      "          \"Height\": 5.2,\n",
      "          \"city\": \"Hydrabad\",\n",
      "          \"state\": \"Telangana\"\n",
      "     },\n",
      "     {\n",
      "          \"employee_name\": \"sam\",\n",
      "          \"employee_DOB\": 12,\n",
      "          \"Height\": 6.0,\n",
      "          \"city\": \"Delhi\",\n",
      "          \"state\": \"Haryana\"\n",
      "     }\n",
      "]\n"
     ]
    }
   ],
   "source": [
    "import json \n",
    "dictionary=[{\"employee_name\": \"sathiyajith\",\"employee_DOB\": 16,\"Height\": 5.6,\"city\": \"Mumbai\",\"state\":\"Maharashtra\"},\n",
    "           {\"employee_name\": \"aditya\",\"employee_DOB\": 1,\"Height\": 5.8,\"city\": \"Pune\",\"state\":\"Maharashtra\"},\n",
    "           {\"employee_name\": \"divya\",\"employee_DOB\": 29,\"Height\": 5.4,\"city\": \"Benglore\",\"state\":\"Karnatak\"},\n",
    "           {\"employee_name\": \"oparth\",\"employee_DOB\": 25,\"Height\": 5.2,\"city\": \"Hydrabad\",\"state\":\"Telangana\"},\n",
    "           {\"employee_name\": \"sam\",\"employee_DOB\": 12,\"Height\": 6.0,\"city\": \"Delhi\",\"state\":\"Haryana\"}] \n",
    "temp_file=json.dumps(dictionary,indent=5)\n",
    "with open(\"employee.json\", \"w\") as outfile:\n",
    "    outfile.write(temp_file)\n",
    "print(temp_file)\n"
   ]
  },
  {
   "cell_type": "code",
   "execution_count": 48,
   "id": "e3c3d3f3",
   "metadata": {},
   "outputs": [
    {
     "name": "stdout",
     "output_type": "stream",
     "text": [
      "{\n",
      "       \"maharashtra\": \"mumbai\",\n",
      "       \"Arunachal Pradesh\": \"Itanagar\",\n",
      "       \"Assam\": \"Dispur\",\n",
      "       \"Nagaland\": \"Kohima\",\n",
      "       \"Manipur\": \"Imphal\",\n",
      "       \" Meghalaya\": \"Shillong\",\n",
      "       \"Tripura\": \"Agartala\"\n",
      "}\n"
     ]
    }
   ],
   "source": [
    "import json\n",
    "x={\"maharashtra\":\"mumbai\",\"Arunachal Pradesh\":\"Itanagar\",\"Assam\":\"Dispur\",\"Nagaland\":\"Kohima\"\n",
    "  ,\"Manipur\":\"Imphal\",\" Meghalaya\":\"Shillong\",\"Tripura\":\"Agartala\"} \n",
    "temp=json.dumps(x,indent=7)\n",
    "with open(\"states.json\",\"w\") as f:\n",
    "    f.write(temp)\n",
    "print(temp)"
   ]
  },
  {
   "cell_type": "code",
   "execution_count": 49,
   "id": "d831e271",
   "metadata": {},
   "outputs": [
    {
     "name": "stdout",
     "output_type": "stream",
     "text": [
      "The colour of dog is : golden\n",
      "***********************************\n",
      "The breed of dog is : retreiver\n",
      "***********************************\n",
      "The height of dog is : 2.1\n",
      "***********************************\n",
      "The name of dog is : lightning\n",
      "***********************************\n",
      "The age of dog is : 10\n",
      "***********************************\n",
      "The weight of dog is : 15\n",
      "***********************************\n",
      "The size of dog is : medium\n",
      "***********************************\n",
      "The colour of dog is : white\n",
      "***********************************\n",
      "The name of dog is : spike\n",
      "***********************************\n",
      "The age of dog is : 7\n",
      "***********************************\n"
     ]
    }
   ],
   "source": [
    "class Dog:\n",
    "    def __init__(self,name=\"\",age=0,coat_colour=\"\"):\n",
    "        self.name= name\n",
    "        self.age= age\n",
    "        self.coat_colour= coat_colour\n",
    "    def description(self,name,age):\n",
    "        self.name=name\n",
    "        print(\"The name of dog is :\",self.name)\n",
    "        print(\"***********************************\")\n",
    "        self.age=age\n",
    "        print(\"The age of dog is :\",self.age)\n",
    "        print(\"***********************************\")\n",
    "    def get_info(self,coat_colour):\n",
    "        self.coat_colour=coat_colour\n",
    "        print(\"The colour of dog is :\",self.coat_colour)\n",
    "        print(\"***********************************\")\n",
    "class JackRussellTerrier(Dog):\n",
    "    def __init__(self,name=\"\",age=0,coat_colour=\"\",breed_name=\"\",height=0):\n",
    "        self.name= name\n",
    "        self.age= age\n",
    "        self.coat_colour= coat_colour\n",
    "    def breed(self,breed_name,height):\n",
    "        self.breed_name=breed_name\n",
    "        print(\"The breed of dog is :\",self.breed_name)\n",
    "        print(\"***********************************\")\n",
    "        self.height=height\n",
    "        print(\"The height of dog is :\",self.height)\n",
    "        print(\"***********************************\")\n",
    "class Bulldog(Dog):\n",
    "    def __init__(self,name=\"\",age=0,coat_colour=\"\",weight=0,size=\"\"):\n",
    "        self.name= name\n",
    "        self.age= age\n",
    "        self.coat_colour= coat_colour\n",
    "    def info_bulldog(self,weight,size):\n",
    "        self.weight=weight\n",
    "        print(\"The weight of dog is :\",self.weight)\n",
    "        print(\"***********************************\")\n",
    "        self.size=size\n",
    "        print(\"The size of dog is :\",self.size)\n",
    "        print(\"***********************************\")\n",
    "    \n",
    "x=JackRussellTerrier()\n",
    "y=Bulldog()\n",
    "x.get_info(\"golden\") \n",
    "x.breed(\"retreiver\",2.1)\n",
    "x.description(\"lightning\",10) \n",
    "y.info_bulldog(15,\"medium\")\n",
    "y.get_info(\"white\")\n",
    "y.description(\"spike\",7)\n",
    "\n",
    "        "
   ]
  }
 ],
 "metadata": {
  "kernelspec": {
   "display_name": "Python 3 (ipykernel)",
   "language": "python",
   "name": "python3"
  },
  "language_info": {
   "codemirror_mode": {
    "name": "ipython",
    "version": 3
   },
   "file_extension": ".py",
   "mimetype": "text/x-python",
   "name": "python",
   "nbconvert_exporter": "python",
   "pygments_lexer": "ipython3",
   "version": "3.9.12"
  }
 },
 "nbformat": 4,
 "nbformat_minor": 5
}
