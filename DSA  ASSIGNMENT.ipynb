{
 "cells": [
  {
   "cell_type": "code",
   "execution_count": 18,
   "id": "7882c6a0",
   "metadata": {},
   "outputs": [
    {
     "name": "stdout",
     "output_type": "stream",
     "text": [
      "enter the number :7\n",
      "A \n",
      "B B \n",
      "C C C \n",
      "D D D D \n",
      "E E E E E \n",
      "F F F F F F \n",
      "G G G G G G G \n"
     ]
    }
   ],
   "source": [
    "#Printing Half Pyramid Pattern\n",
    "x=int(input(\"enter the number :\"))\n",
    "def alphabet(x):\n",
    "    num=65\n",
    "    for i in range(0,x):\n",
    "        for j in range(0,i+1):\n",
    "            ch=chr(num)\n",
    "            print(ch,end=\" \")\n",
    "        num=num+1\n",
    "        print(\"\\r\")\n",
    "alphabet(x)"
   ]
  },
  {
   "cell_type": "code",
   "execution_count": 37,
   "id": "257ba4a3",
   "metadata": {},
   "outputs": [
    {
     "name": "stdout",
     "output_type": "stream",
     "text": [
      "enter the number :5\n",
      "* \n",
      "* * \n",
      "* * * \n",
      "* * * * \n",
      "* * * * * \n"
     ]
    }
   ],
   "source": [
    "#Printing Full Pyramid Pattern\n",
    "x=int(input(\"enter the number :\"))\n",
    "def alphabet(x):\n",
    "    for i in range(0,x):\n",
    "        for j in range(0,i+1):\n",
    "            print(\"*\",end=\" \")\n",
    "        print(\"\\r\")\n",
    "alphabet(x)"
   ]
  },
  {
   "cell_type": "code",
   "execution_count": 30,
   "id": "902e3d85",
   "metadata": {},
   "outputs": [
    {
     "name": "stdout",
     "output_type": "stream",
     "text": [
      "enter the number :4001\n",
      "1004\n"
     ]
    }
   ],
   "source": [
    "#Reverse a number entered by the user\n",
    "num=int(input(\"enter the number :\"))\n",
    "sum=0\n",
    "while num!=0:\n",
    "    digit=num%10\n",
    "    sum=sum*10+digit\n",
    "    num=num//10\n",
    "print(sum)"
   ]
  },
  {
   "cell_type": "code",
   "execution_count": 3,
   "id": "b1fbbb70",
   "metadata": {},
   "outputs": [
    {
     "name": "stdout",
     "output_type": "stream",
     "text": [
      "The peak point is 90\n"
     ]
    }
   ],
   "source": [
    "#Find a peak element which is not smaller than its neighbours\n",
    "def findPeakUtil(arr, lowerBound, upperBound, n):\n",
    "    mid = lowerBound + (upperBound - lowerBound)/2\n",
    "    mid = int(mid)\n",
    "    if ((mid == 0 or arr[mid - 1] <= arr[mid]) and\n",
    "        (mid == n - 1 or arr[mid + 1] <= arr[mid])):\n",
    "        return mid\n",
    "    elif (mid > 0 and arr[mid + 1] > arr[mid]):\n",
    "        return findPeakUtil(arr, (mid + 1), upperBound, n)\n",
    "    else:\n",
    "        return findPeakUtil(arr, lowerBound, (mid - 1), n)\n",
    "\n",
    "\n",
    "arr = [10, 20, 15, 2, 23, 90, 67]\n",
    "n = len(arr)\n",
    "print(\"The peak point is\", arr[findPeakUtil(arr, 0, n - 1, n)])"
   ]
  },
  {
   "cell_type": "code",
   "execution_count": 4,
   "id": "81a0d962",
   "metadata": {},
   "outputs": [
    {
     "name": "stdout",
     "output_type": "stream",
     "text": [
      "1 2 3 4 5\n",
      "[5, 1, 2, 3, 4]\n"
     ]
    }
   ],
   "source": [
    "#Program to cyclically rotate an array by one\n",
    "def rotate(arr):\n",
    "    n=len(arr)\n",
    "    x=arr[n-1]\n",
    "    for i in range(n-1,0,-1):\n",
    "        arr[i]=arr[i-1]\n",
    "    arr[0]=x\n",
    "    return arr\n",
    "arr=list(map(int,input().split()))\n",
    "a=rotate(arr)\n",
    "print(a)"
   ]
  },
  {
   "cell_type": "code",
   "execution_count": 54,
   "id": "a446ec43",
   "metadata": {},
   "outputs": [
    {
     "name": "stdout",
     "output_type": "stream",
     "text": [
      "Enter the array :36, 41, 56, 35, 44, 33, 34, 92, 43, 32, 42\n",
      "The consecutive sub sequence of array is : 5\n"
     ]
    }
   ],
   "source": [
    "#Longest Consecutive Subsequence\n",
    "arr=input(\"Enter the array :\")\n",
    "def lis(arr):\n",
    "    n=len(arr)\n",
    "    lis=[1]*n\n",
    "    for i in range(1,n):\n",
    "        for j in range(0,i):\n",
    "            if arr[i]>arr[j] and lis[i]<lis[j]+1:\n",
    "                lis[i]=lis[j]+1\n",
    "    maximum=0\n",
    "    for i in range(n):\n",
    "        maximum=max(maximum,lis[i])\n",
    "    return maximum\n",
    "print(\"The consecutive sub sequence of array is :\",lis(arr))"
   ]
  },
  {
   "cell_type": "code",
   "execution_count": null,
   "id": "a0032dc9",
   "metadata": {},
   "outputs": [],
   "source": []
  },
  {
   "cell_type": "code",
   "execution_count": null,
   "id": "8016c9af",
   "metadata": {},
   "outputs": [],
   "source": []
  }
 ],
 "metadata": {
  "kernelspec": {
   "display_name": "Python 3 (ipykernel)",
   "language": "python",
   "name": "python3"
  },
  "language_info": {
   "codemirror_mode": {
    "name": "ipython",
    "version": 3
   },
   "file_extension": ".py",
   "mimetype": "text/x-python",
   "name": "python",
   "nbconvert_exporter": "python",
   "pygments_lexer": "ipython3",
   "version": "3.10.7"
  }
 },
 "nbformat": 4,
 "nbformat_minor": 5
}
