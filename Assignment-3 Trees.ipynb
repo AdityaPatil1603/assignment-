{
 "cells": [
  {
   "cell_type": "code",
   "execution_count": 1,
   "id": "485a9893",
   "metadata": {},
   "outputs": [
    {
     "name": "stdout",
     "output_type": "stream",
     "text": [
      "1 \n",
      "3 \n",
      "5 \n",
      "7 \n",
      "9 \n"
     ]
    }
   ],
   "source": [
    "#Implement Binary tree\n",
    "class Node:\n",
    "    def __init__(self, value):\n",
    "        self.left = None\n",
    "        self.right = None\n",
    "        self.value = value\n",
    " \n",
    " \n",
    "class BinaryTree:\n",
    "    def __init__(self):\n",
    "        self.root = None\n",
    " \n",
    "    def add_node(self, value):\n",
    "        if self.root is None:\n",
    "            self.root = Node(value)\n",
    "        else:\n",
    "            self._add_node(value, self.root)\n",
    " \n",
    "    def _add_node(self, value, node):\n",
    "        if value < node.value:\n",
    "            if node.left is None:\n",
    "                node.left = Node(value)\n",
    "            else:\n",
    "                self._add_node(value, node.left)\n",
    "        else:\n",
    "            if node.right is None:\n",
    "                node.right = Node(value)\n",
    "            else:\n",
    "                self._add_node(value, node.right)\n",
    " \n",
    "    def print_tree(self):\n",
    "        if self.root is not None:\n",
    "            self._print_tree(self.root)\n",
    " \n",
    "    def _print_tree(self, node):\n",
    "        if node is not None:\n",
    "            self._print_tree(node.left)\n",
    "            print(str(node.value) + ' ')\n",
    "            self._print_tree(node.right)\n",
    " \n",
    " \n",
    "# Example usage:\n",
    "tree = BinaryTree()\n",
    "tree.add_node(5)\n",
    "tree.add_node(3)\n",
    "tree.add_node(7)\n",
    "tree.add_node(1)\n",
    "tree.add_node(9)\n",
    "tree.print_tree()"
   ]
  },
  {
   "cell_type": "code",
   "execution_count": 2,
   "id": "cc317651",
   "metadata": {},
   "outputs": [
    {
     "name": "stdout",
     "output_type": "stream",
     "text": [
      "Height of the tree is: 3\n"
     ]
    }
   ],
   "source": [
    "#Find height of a given tree\n",
    "class Node:\n",
    "    def __init__(self, value):\n",
    "        self.left = None\n",
    "        self.right = None\n",
    "        self.value = value\n",
    " \n",
    " \n",
    "def height(node):\n",
    "    if node is None:\n",
    "        return 0\n",
    "    else:\n",
    "        left_height = height(node.left)\n",
    "        right_height = height(node.right)\n",
    "        return max(left_height, right_height) + 1\n",
    " \n",
    " \n",
    "# Example usage:\n",
    "root = Node(1)\n",
    "root.left = Node(2)\n",
    "root.right = Node(3)\n",
    "root.left.left = Node(4)\n",
    "root.left.right = Node(5)\n",
    " \n",
    "print(\"Height of the tree is:\", height(root))"
   ]
  },
  {
   "cell_type": "code",
   "execution_count": 3,
   "id": "44e04c58",
   "metadata": {},
   "outputs": [
    {
     "name": "stdout",
     "output_type": "stream",
     "text": [
      "Inorder traversal:\n",
      "4 2 5 1 3 \n",
      "\n",
      "Postorder traversal:\n",
      "4 5 2 3 1 \n",
      "\n",
      "Preorder traversal:\n",
      "1 2 4 5 3 \n",
      "\n"
     ]
    }
   ],
   "source": [
    "#Perform Pre-order, Post-order, In-order traversal\n",
    "class Node:\n",
    "    def __init__(self, value):\n",
    "        self.left = None\n",
    "        self.right = None\n",
    "        self.value = value\n",
    " \n",
    " \n",
    "def inorder(node):\n",
    "    if node:\n",
    "        inorder(node.left)\n",
    "        print(node.value, end=\" \")\n",
    "        inorder(node.right)\n",
    " \n",
    " \n",
    "def postorder(node):\n",
    "    if node:\n",
    "        postorder(node.left)\n",
    "        postorder(node.right)\n",
    "        print(node.value, end=\" \")\n",
    " \n",
    " \n",
    "def preorder(node):\n",
    "    if node:\n",
    "        print(node.value, end=\" \")\n",
    "        preorder(node.left)\n",
    "        preorder(node.right)\n",
    " \n",
    " \n",
    "# Example usage:\n",
    "root = Node(1)\n",
    "root.left = Node(2)\n",
    "root.right = Node(3)\n",
    "root.left.left = Node(4)\n",
    "root.left.right = Node(5)\n",
    " \n",
    "print(\"Inorder traversal:\")\n",
    "inorder(root)\n",
    "print(\"\\n\")\n",
    " \n",
    "print(\"Postorder traversal:\")\n",
    "postorder(root)\n",
    "print(\"\\n\")\n",
    " \n",
    "print(\"Preorder traversal:\")\n",
    "preorder(root)\n",
    "print(\"\\n\")"
   ]
  },
  {
   "cell_type": "code",
   "execution_count": 4,
   "id": "ae5fef3b",
   "metadata": {},
   "outputs": [
    {
     "name": "stdout",
     "output_type": "stream",
     "text": [
      "Leaves of the tree are:\n",
      "4 5 6 8 "
     ]
    }
   ],
   "source": [
    "#Function to print all the leaves in a given binary tree\n",
    "class Node:\n",
    "    def __init__(self, value):\n",
    "        self.left = None\n",
    "        self.right = None\n",
    "        self.value = value\n",
    " \n",
    " \n",
    "def print_leaves(node):\n",
    "    if node is None:\n",
    "        return\n",
    "    if node.left is None and node.right is None:\n",
    "        print(node.value, end=\" \")\n",
    "    else:\n",
    "        print_leaves(node.left)\n",
    "        print_leaves(node.right)\n",
    " \n",
    " \n",
    "# Example usage:\n",
    "root = Node(1)\n",
    "root.left = Node(2)\n",
    "root.right = Node(3)\n",
    "root.left.left = Node(4)\n",
    "root.left.right = Node(5)\n",
    "root.right.left = Node(6)\n",
    "root.right.right = Node(7)\n",
    "root.right.right.left = Node(8)\n",
    " \n",
    "print(\"Leaves of the tree are:\")\n",
    "print_leaves(root)"
   ]
  },
  {
   "cell_type": "code",
   "execution_count": 5,
   "id": "c31d291c",
   "metadata": {},
   "outputs": [
    {
     "name": "stdout",
     "output_type": "stream",
     "text": [
      "BFS traversal:\n",
      "2 0 3 1 \n",
      "\n",
      "DFS traversal:\n",
      "2 0 1 3 "
     ]
    }
   ],
   "source": [
    "#Implement BFS (Breath First Search) and DFS (Depth First Search)\n",
    "from collections import defaultdict\n",
    " \n",
    "class Graph:\n",
    "    def __init__(self):\n",
    "        self.graph = defaultdict(list)\n",
    " \n",
    "    def add_edge(self, u, v):\n",
    "        self.graph[u].append(v)\n",
    " \n",
    "    def bfs(self, start_node):\n",
    "        visited = [False] * len(self.graph)\n",
    "        queue = []\n",
    "        queue.append(start_node)\n",
    "        visited[start_node] = True\n",
    " \n",
    "        while queue:\n",
    "            current_node = queue.pop(0)\n",
    "            print(current_node, end=\" \")\n",
    "            for neighbor in self.graph[current_node]:\n",
    "                if not visited[neighbor]:\n",
    "                    queue.append(neighbor)\n",
    "                    visited[neighbor] = True\n",
    " \n",
    "    def dfs_util(self, current_node, visited):\n",
    "        visited[current_node] = True\n",
    "        print(current_node, end=\" \")\n",
    "        for neighbor in self.graph[current_node]:\n",
    "            if not visited[neighbor]:\n",
    "                self.dfs_util(neighbor, visited)\n",
    " \n",
    "    def dfs(self, start_node):\n",
    "        visited = [False] * len(self.graph)\n",
    "        self.dfs_util(start_node, visited)\n",
    " \n",
    " \n",
    "# Example usage:\n",
    "g = Graph()\n",
    "g.add_edge(0, 1)\n",
    "g.add_edge(0, 2)\n",
    "g.add_edge(1, 2)\n",
    "g.add_edge(2, 0)\n",
    "g.add_edge(2, 3)\n",
    "g.add_edge(3, 3)\n",
    " \n",
    "print(\"BFS traversal:\")\n",
    "g.bfs(2)\n",
    "print(\"\\n\")\n",
    " \n",
    "print(\"DFS traversal:\")\n",
    "g.dfs(2)"
   ]
  },
  {
   "cell_type": "code",
   "execution_count": 6,
   "id": "9ed65afc",
   "metadata": {},
   "outputs": [
    {
     "name": "stdout",
     "output_type": "stream",
     "text": [
      "Sum of all left leaves in the tree: 18\n"
     ]
    }
   ],
   "source": [
    "#Find sum of all left leaves in a given Binary Tree\n",
    "class Node:\n",
    "    def __init__(self, value):\n",
    "        self.left = None\n",
    "        self.right = None\n",
    "        self.value = value\n",
    " \n",
    " \n",
    "def sum_left_leaves(node, is_left):\n",
    "    if node is None:\n",
    "        return 0\n",
    "    if node.left is None and node.right is None and is_left:\n",
    "        return node.value\n",
    "    return sum_left_leaves(node.left, True) + sum_left_leaves(node.right, False)\n",
    " \n",
    " \n",
    "# Example usage:\n",
    "root = Node(1)\n",
    "root.left = Node(2)\n",
    "root.right = Node(3)\n",
    "root.left.left = Node(4)\n",
    "root.left.right = Node(5)\n",
    "root.right.left = Node(6)\n",
    "root.right.right = Node(7)\n",
    "root.right.right.left = Node(8)\n",
    " \n",
    "print(\"Sum of all left leaves in the tree:\", sum_left_leaves(root, False))"
   ]
  },
  {
   "cell_type": "code",
   "execution_count": 7,
   "id": "634da2f5",
   "metadata": {},
   "outputs": [
    {
     "name": "stdout",
     "output_type": "stream",
     "text": [
      "Sum of all nodes in the tree: 17\n"
     ]
    }
   ],
   "source": [
    "#Find sum of all nodes of the given perfect binary tree\n",
    "class Node:\n",
    "    def __init__(self, value):\n",
    "        self.left = None\n",
    "        self.right = None\n",
    "        self.value = value\n",
    " \n",
    " \n",
    "def sum_of_nodes(node):\n",
    "    if node is None:\n",
    "        return 0\n",
    "    left_subtree_height = 0\n",
    "    temp = node\n",
    "    while temp.left is not None:\n",
    "        left_subtree_height += 1\n",
    "        temp = temp.left\n",
    "    return (2**(left_subtree_height+1)-1) + sum_of_nodes(node.left) + sum_of_nodes(node.right)\n",
    " \n",
    " \n",
    "# Example usage:\n",
    "root = Node(1)\n",
    "root.left = Node(2)\n",
    "root.right = Node(3)\n",
    "root.left.left = Node(4)\n",
    "root.left.right = Node(5)\n",
    "root.right.left = Node(6)\n",
    "root.right.right = Node(7)\n",
    " \n",
    "print(\"Sum of all nodes in the tree:\", sum_of_nodes(root))"
   ]
  },
  {
   "cell_type": "code",
   "execution_count": 8,
   "id": "6732bd23",
   "metadata": {},
   "outputs": [
    {
     "name": "stdout",
     "output_type": "stream",
     "text": [
      "Number of subtrees with sum 7 in the tree: 0\n"
     ]
    }
   ],
   "source": [
    "#Count subtress that sum up to a given value x in a binary tree\n",
    "class Node:\n",
    "    def __init__(self, value):\n",
    "        self.left = None\n",
    "        self.right = None\n",
    "        self.value = value\n",
    "\n",
    "\n",
    "def count_subtrees_with_sum_x(node, x):\n",
    "    if node is None:\n",
    "        return 0\n",
    "    count = 0\n",
    "    if node.value == x:\n",
    "        count += 1\n",
    "    count += count_subtrees_with_sum_x(node.left, x-node.value)\n",
    "    count += count_subtrees_with_sum_x(node.right, x-node.value)\n",
    "    return count\n",
    "\n",
    "\n",
    "# Example usage:\n",
    "root = Node(5)\n",
    "root.left = Node(-10)\n",
    "root.right = Node(3)\n",
    "root.left.left = Node(9)\n",
    "root.left.right = Node(8)\n",
    "root.right.left = Node(-4)\n",
    "root.right.right = Node(7)\n",
    "\n",
    "x = 7\n",
    "count = count_subtrees_with_sum_x(root, x)\n",
    "print(\"Number of subtrees with sum\", x, \"in the tree:\", count)"
   ]
  },
  {
   "cell_type": "code",
   "execution_count": 9,
   "id": "835a563c",
   "metadata": {},
   "outputs": [
    {
     "name": "stdout",
     "output_type": "stream",
     "text": [
      "Maximum level sum in the tree: 22\n"
     ]
    }
   ],
   "source": [
    "#Find maximum level sum in Binary Tree\n",
    "class Node:\n",
    "    def __init__(self, value):\n",
    "        self.left = None\n",
    "        self.right = None\n",
    "        self.value = value\n",
    "\n",
    "\n",
    "def max_level_sum(node):\n",
    "    if node is None:\n",
    "        return 0\n",
    "    max_sum = node.value\n",
    "    queue = [node]\n",
    "    while queue:\n",
    "        current_level_sum = 0\n",
    "        for _ in range(len(queue)):\n",
    "            node = queue.pop(0)\n",
    "            current_level_sum += node.value\n",
    "            if node.left:\n",
    "                queue.append(node.left)\n",
    "            if node.right:\n",
    "                queue.append(node.right)\n",
    "        if current_level_sum > max_sum:\n",
    "            max_sum = current_level_sum\n",
    "    return max_sum\n",
    "\n",
    "\n",
    "# Example usage:\n",
    "root = Node(1)\n",
    "root.left = Node(2)\n",
    "root.right = Node(3)\n",
    "root.left.left = Node(4)\n",
    "root.left.right = Node(5)\n",
    "root.right.left = Node(6)\n",
    "root.right.right = Node(7)\n",
    "\n",
    "max_sum = max_level_sum(root)\n",
    "print(\"Maximum level sum in the tree:\", max_sum)"
   ]
  },
  {
   "cell_type": "code",
   "execution_count": 10,
   "id": "7299d237",
   "metadata": {},
   "outputs": [
    {
     "name": "stdout",
     "output_type": "stream",
     "text": [
      "Nodes at odd levels of the tree: 1 4 5 6 7 "
     ]
    }
   ],
   "source": [
    "#Print the nodes at odd levels of a tree\n",
    "class Node:\n",
    "    def __init__(self, value):\n",
    "        self.left = None\n",
    "        self.right = None\n",
    "        self.value = value\n",
    "\n",
    "\n",
    "def print_odd_level_nodes(node, level=1):\n",
    "    if node is None:\n",
    "        return\n",
    "    if level % 2 == 1:\n",
    "        print(node.value, end=' ')\n",
    "    print_odd_level_nodes(node.left, level+1)\n",
    "    print_odd_level_nodes(node.right, level+1)\n",
    "\n",
    "\n",
    "# Example usage:\n",
    "root = Node(1)\n",
    "root.left = Node(2)\n",
    "root.right = Node(3)\n",
    "root.left.left = Node(4)\n",
    "root.left.right = Node(5)\n",
    "root.right.left = Node(6)\n",
    "root.right.right = Node(7)\n",
    "\n",
    "print(\"Nodes at odd levels of the tree:\", end=' ')\n",
    "print_odd_level_nodes(root)"
   ]
  }
 ],
 "metadata": {
  "kernelspec": {
   "display_name": "Python 3 (ipykernel)",
   "language": "python",
   "name": "python3"
  },
  "language_info": {
   "codemirror_mode": {
    "name": "ipython",
    "version": 3
   },
   "file_extension": ".py",
   "mimetype": "text/x-python",
   "name": "python",
   "nbconvert_exporter": "python",
   "pygments_lexer": "ipython3",
   "version": "3.9.13"
  }
 },
 "nbformat": 4,
 "nbformat_minor": 5
}
