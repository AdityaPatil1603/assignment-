{
 "cells": [
  {
   "cell_type": "code",
   "execution_count": 4,
   "id": "bcfb8228",
   "metadata": {},
   "outputs": [
    {
     "name": "stdout",
     "output_type": "stream",
     "text": [
      "Array= [1, 2, 5, 7, 8, 10]\n",
      "The sum of pairs : 10\n",
      "2 8\n",
      "5 5\n"
     ]
    }
   ],
   "source": [
    "# find all pairs on integer  array whose sum is equal to given number\n",
    "def find(array,len,summ):\n",
    "    print(\"The sum of pairs :\",summ)\n",
    "    for i in range(len):\n",
    "        for j in range(i,len):\n",
    "            if(array[i]+ array[j])==summ:\n",
    "                print(array[i],array[j])\n",
    "array=[1,2,5,7,8,10]\n",
    "summ=10\n",
    "print(\"Array=\",array)\n",
    "find(array,len(array),summ)"
   ]
  },
  {
   "cell_type": "code",
   "execution_count": 11,
   "id": "73ce6149",
   "metadata": {},
   "outputs": [
    {
     "name": "stdout",
     "output_type": "stream",
     "text": [
      "[10, 20, 30, 40, 50, 60]\n",
      "Reverse of array is :\n",
      "[60, 50, 40, 30, 20, 10]\n"
     ]
    }
   ],
   "source": [
    "# write a program to reverse an array \n",
    "def reverseList(A,start,end):\n",
    "    while start<end:\n",
    "        A[start],A[end]= A[end],A[start]\n",
    "        start +=1\n",
    "        end -=1\n",
    "A=[10,20,30,40,50,60]\n",
    "print(A)\n",
    "reverseList(A,0,5)\n",
    "print(\"Reverse of array is :\")\n",
    "print(A)"
   ]
  },
  {
   "cell_type": "code",
   "execution_count": 15,
   "id": "fe9cb293",
   "metadata": {},
   "outputs": [
    {
     "name": "stdout",
     "output_type": "stream",
     "text": [
      "enter the string :abcd\n",
      "enter the string :cdab\n",
      "Strings are rotations of each other\n"
     ]
    }
   ],
   "source": [
    "# Write a program to check if two strings are a rotation of each other?\n",
    "def checkString(s1, s2, indexFound, Size):\n",
    "    for i in range(Size):\n",
    "        if(s1[i] != s2[(indexFound + i) % Size]):\n",
    "            return False\n",
    "    return True\n",
    "s1 =input(\"enter the string :\")\n",
    "s2 =input(\"enter the string :\")\n",
    " \n",
    "if(len(s1) != len(s2)):\n",
    "    print(\"s2 is not a rotation on s1\")  \n",
    "else:\n",
    "    indexes = []  # store occurrences of the first character of s1\n",
    "    Size = len(s1)\n",
    "    firstChar = s1[0]\n",
    "    for i in range(Size):\n",
    "        if(s2[i] == firstChar):\n",
    "            indexes.append(i)\n",
    " \n",
    "    isRotation = False\n",
    "    for idx in indexes:\n",
    " \n",
    "        isRotation = checkString(s1, s2, idx, Size)\n",
    " \n",
    "        if(isRotation):\n",
    "            break\n",
    " \n",
    "    if(isRotation):\n",
    "        print(\"Strings are rotations of each other\")\n",
    "    else:\n",
    "        print(\"Strings are not rotations of each other\")\n",
    " \n"
   ]
  },
  {
   "cell_type": "code",
   "execution_count": 13,
   "id": "107d5306",
   "metadata": {},
   "outputs": [
    {
     "name": "stdout",
     "output_type": "stream",
     "text": [
      "First non-repeating character is o\n"
     ]
    }
   ],
   "source": [
    "#Write a program to print the first non-repeated character from a string\n",
    "def FirstNonRepeat(s):\n",
    "    for i in s:\n",
    "        if (s.find(i, (s.find(i)+1))) == -1:\n",
    "            print(\"First non-repeating character is\", i)\n",
    "            break\n",
    "    return \n",
    "s = 'bob'\n",
    "FirstNonRepeat(s)"
   ]
  },
  {
   "cell_type": "code",
   "execution_count": 17,
   "id": "826094e6",
   "metadata": {},
   "outputs": [
    {
     "name": "stdout",
     "output_type": "stream",
     "text": [
      "Move disk 1 from rod A to rod C\n",
      "Move disk 2 from rod A to rod B\n",
      "Move disk 1 from rod C to rod B\n",
      "Move disk 3 from rod A to rod C\n",
      "Move disk 1 from rod B to rod A\n",
      "Move disk 2 from rod B to rod C\n",
      "Move disk 1 from rod A to rod C\n"
     ]
    }
   ],
   "source": [
    "# Write a program to implement tower of henoi\n",
    "def TowerOfHanoi(n, from_rod, to_rod, aux_rod):\n",
    "    if n == 0:\n",
    "        return\n",
    "    TowerOfHanoi(n-1, from_rod, aux_rod, to_rod)\n",
    "    print(\"Move disk\", n, \"from rod\", from_rod, \"to rod\", to_rod)\n",
    "    TowerOfHanoi(n-1, aux_rod, to_rod, from_rod)\n",
    "N = 3\n",
    "TowerOfHanoi(N, 'A', 'C', 'B')"
   ]
  },
  {
   "cell_type": "code",
   "execution_count": 18,
   "id": "c897a783",
   "metadata": {},
   "outputs": [
    {
     "name": "stdout",
     "output_type": "stream",
     "text": [
      "ABC/-AK/L-*\n"
     ]
    }
   ],
   "source": [
    "# Write a program to convert postfix to prefix expression.\n",
    "s = \"*-A/BC-/AKL\"\n",
    "stack = []\n",
    "operators = set(['+', '-', '*', '/', '^'])\n",
    "s = s[::-1]\n",
    "for i in s:\n",
    "    if i in operators:\n",
    "        a = stack.pop()\n",
    "        b = stack.pop()\n",
    "        temp = a+b+i\n",
    "        stack.append(temp)\n",
    "    else:\n",
    "        stack.append(i)\n",
    "print(*stack)"
   ]
  },
  {
   "cell_type": "code",
   "execution_count": 19,
   "id": "f4502a56",
   "metadata": {},
   "outputs": [
    {
     "name": "stdout",
     "output_type": "stream",
     "text": [
      "((A-(B/C))*((A/K)-L))\n"
     ]
    }
   ],
   "source": [
    "def prefixToInfix(prefix):\n",
    "    stack = []\n",
    "    i = len(prefix) - 1\n",
    "    while i >= 0:\n",
    "        if not isOperator(prefix[i]):\n",
    "            stack.append(prefix[i])\n",
    "            i -= 1\n",
    "        else:\n",
    "            str = \"(\" + stack.pop() + prefix[i] + stack.pop() + \")\"\n",
    "            stack.append(str)\n",
    "            i -= 1\n",
    "    return stack.pop()\n",
    "def isOperator(c):\n",
    "    if c == \"*\" or c == \"+\" or c == \"-\" or c == \"/\" or c == \"^\" or c == \"(\" or c == \")\":\n",
    "        return True\n",
    "    else:\n",
    "        return False\n",
    "if __name__==\"__main__\":\n",
    "    str = \"*-A/BC-/AKL\"\n",
    "    print(prefixToInfix(str))"
   ]
  },
  {
   "cell_type": "code",
   "execution_count": 20,
   "id": "6ce9357e",
   "metadata": {},
   "outputs": [
    {
     "name": "stdout",
     "output_type": "stream",
     "text": [
      "Balanced\n",
      "Not Balanced\n"
     ]
    }
   ],
   "source": [
    "#Write a program to check if all the brackets are closed in a given code snippet.\n",
    "\n",
    "def isBalanced(exp):\n",
    "    flag = True\n",
    "    count = 0\n",
    "    for i in range(len(exp)):\n",
    "        if (exp[i] == '('):\n",
    "            count += 1\n",
    "        else:\n",
    "            count -= 1\n",
    "        if (count < 0):\n",
    "            flag = False\n",
    "            break\n",
    "    if (count != 0):\n",
    "        flag = False\n",
    "    return flag\n",
    "if __name__ == '__main__':\n",
    "    exp1 = \"((()))()()\"\n",
    "    if (isBalanced(exp1)):\n",
    "        print(\"Balanced\")\n",
    "    else:\n",
    "        print(\"Not Balanced\")\n",
    "    exp2 = \"())((())\"\n",
    "    if (isBalanced(exp2)):\n",
    "        print(\"Balanced\")\n",
    "    else:\n",
    "        print(\"Not Balanced\")"
   ]
  },
  {
   "cell_type": "code",
   "execution_count": 5,
   "id": "5c6cd00f",
   "metadata": {},
   "outputs": [
    {
     "name": "stdout",
     "output_type": "stream",
     "text": [
      "Original Stack\n",
      "5\n",
      "4\n",
      "3\n",
      "2\n",
      "1\n",
      "\n",
      "Stack after Reversing\n",
      "1\n",
      "2\n",
      "3\n",
      "4\n",
      "5\n"
     ]
    }
   ],
   "source": [
    "# Write a program to reverse a stack.\n",
    "class Stack:\n",
    "    def __init__(self):\n",
    "        self.Elements = []\n",
    "    def push(self, value):\n",
    "        self.Elements.append(value)\n",
    "    def pop(self):\n",
    "        return self.Elements.pop()\n",
    "    def empty(self):\n",
    "        return self.Elements == []\n",
    "    def show(self):\n",
    "        for value in reversed(self.Elements):\n",
    "            print(value)\n",
    "def BottomInsert(s, value):\n",
    "    if s.empty():\n",
    "        s.push(value)\n",
    "    else:\n",
    "        popped = s.pop()\n",
    "        BottomInsert(s, value)\n",
    "        s.push(popped)\n",
    "def Reverse(s):\n",
    "    if s.empty():\n",
    "        pass\n",
    "    else:\n",
    "        popped = s.pop()\n",
    "        Reverse(s)\n",
    "        BottomInsert(s, popped)\n",
    "stk = Stack()\n",
    "stk.push(1)\n",
    "stk.push(2)\n",
    "stk.push(3)\n",
    "stk.push(4)\n",
    "stk.push(5)\n",
    " \n",
    "print(\"Original Stack\")\n",
    "stk.show()\n",
    "print(\"\\nStack after Reversing\")\n",
    "Reverse(stk)\n",
    "stk.show()"
   ]
  },
  {
   "cell_type": "code",
   "execution_count": 4,
   "id": "3cc71b18",
   "metadata": {},
   "outputs": [
    {
     "name": "stdout",
     "output_type": "stream",
     "text": [
      "1\n"
     ]
    }
   ],
   "source": [
    "# find smallest number using stack\n",
    "class stack:\n",
    "    def __init__(self):\n",
    "        self.stack=[]\n",
    "        self.min=[]\n",
    "    def stack_min(self):\n",
    "        return self.min[-1]\n",
    "    def stack_pop(self):\n",
    "        x=self.stack.pop()\n",
    "        self.min.pop()\n",
    "        return x\n",
    "    def stack_push(self,item):\n",
    "        self.stack.append(item)\n",
    "        if not self.min or item <= self.stack_min():\n",
    "            self.min.append(item)\n",
    "        else:\n",
    "            self.min.append(self.min[-1])\n",
    "\n",
    "if __name__ ==\"__main__\":\n",
    "    s=stack()\n",
    "    s.stack_push(2)\n",
    "    s.stack_push(4)\n",
    "    s.stack_push(6)\n",
    "    s.stack_push(1)\n",
    "    s.stack_push(5)\n",
    "    print(s.stack_min())"
   ]
  },
  {
   "cell_type": "code",
   "execution_count": null,
   "id": "84d3c286",
   "metadata": {},
   "outputs": [],
   "source": []
  },
  {
   "cell_type": "code",
   "execution_count": null,
   "id": "72aed0bf",
   "metadata": {},
   "outputs": [],
   "source": []
  }
 ],
 "metadata": {
  "kernelspec": {
   "display_name": "Python 3 (ipykernel)",
   "language": "python",
   "name": "python3"
  },
  "language_info": {
   "codemirror_mode": {
    "name": "ipython",
    "version": 3
   },
   "file_extension": ".py",
   "mimetype": "text/x-python",
   "name": "python",
   "nbconvert_exporter": "python",
   "pygments_lexer": "ipython3",
   "version": "3.10.7"
  }
 },
 "nbformat": 4,
 "nbformat_minor": 5
}
