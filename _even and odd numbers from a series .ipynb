{
 "cells": [
  {
   "cell_type": "code",
   "execution_count": 1,
   "id": "8160cc55",
   "metadata": {},
   "outputs": [
    {
     "name": "stdout",
     "output_type": "stream",
     "text": [
      "the total even numbers in the string  4\n",
      "total number odd numbers in the string 5\n"
     ]
    }
   ],
   "source": [
    "numbers = (1, 2, 3, 4, 5, 6, 7, 8, 9) \n",
    "odd= 0\n",
    "even=0 \n",
    "for i in numbers:\n",
    "    if i%2==0:\n",
    "        even+=1\n",
    "    else:\n",
    "        odd+=1\n",
    "print(\"the total even numbers in the string \",even)\n",
    "print(\"total number odd numbers in the string\",odd)"
   ]
  },
  {
   "cell_type": "code",
   "execution_count": null,
   "id": "8fff5ec0",
   "metadata": {},
   "outputs": [],
   "source": []
  }
 ],
 "metadata": {
  "kernelspec": {
   "display_name": "Python 3 (ipykernel)",
   "language": "python",
   "name": "python3"
  },
  "language_info": {
   "codemirror_mode": {
    "name": "ipython",
    "version": 3
   },
   "file_extension": ".py",
   "mimetype": "text/x-python",
   "name": "python",
   "nbconvert_exporter": "python",
   "pygments_lexer": "ipython3",
   "version": "3.9.12"
  }
 },
 "nbformat": 4,
 "nbformat_minor": 5
}
